{
 "cells": [
  {
   "cell_type": "markdown",
   "id": "bdbef8fb",
   "metadata": {},
   "source": [
    "## Diferentes formas de crear listas"
   ]
  },
  {
   "cell_type": "code",
   "execution_count": 3,
   "id": "71aa31a9",
   "metadata": {},
   "outputs": [
    {
     "name": "stdout",
     "output_type": "stream",
     "text": [
      "[3, 3, 3, 3, 3]\n"
     ]
    }
   ],
   "source": [
    "my_list =  [3] *5\n",
    "print(my_list)"
   ]
  },
  {
   "cell_type": "code",
   "execution_count": 4,
   "id": "f7d2fb47",
   "metadata": {},
   "outputs": [
    {
     "name": "stdout",
     "output_type": "stream",
     "text": [
      "[1, 2, 3, 4, 5]\n"
     ]
    }
   ],
   "source": [
    "my_list =  [1,2,3,4,5]\n",
    "print(my_list)"
   ]
  },
  {
   "cell_type": "code",
   "execution_count": 5,
   "id": "5886c351",
   "metadata": {},
   "outputs": [
    {
     "name": "stdout",
     "output_type": "stream",
     "text": [
      "[0, 1, 2, 3, 4, 5, 6, 7, 8, 9]\n"
     ]
    }
   ],
   "source": [
    "my_list =  []\n",
    "for number in range(10):\n",
    "    my_list.append(number)\n",
    "print(my_list)"
   ]
  },
  {
   "cell_type": "code",
   "execution_count": 7,
   "id": "6afadf8f",
   "metadata": {},
   "outputs": [
    {
     "name": "stdout",
     "output_type": "stream",
     "text": [
      "[0, 1, 2, 3, 4, 5, 6, 7, 8, 9]\n"
     ]
    }
   ],
   "source": [
    "my_list =  []\n",
    "for number in range(10):\n",
    "    my_list+=[number] # my_list = my_list + [number]\n",
    "print(my_list)"
   ]
  },
  {
   "cell_type": "code",
   "execution_count": 8,
   "id": "44fb5a95",
   "metadata": {},
   "outputs": [
    {
     "name": "stdout",
     "output_type": "stream",
     "text": [
      "[0, 1, 2, 3, 4, 5, 6, 7, 8, 9, 10, 11, 12, 13, 14]\n"
     ]
    }
   ],
   "source": [
    "my_list =  [number for number in range(15)]\n",
    "print(my_list)"
   ]
  },
  {
   "cell_type": "markdown",
   "id": "da8b355e",
   "metadata": {},
   "source": [
    "## Obtener sublistas"
   ]
  },
  {
   "cell_type": "code",
   "execution_count": 14,
   "id": "25262758",
   "metadata": {},
   "outputs": [
    {
     "name": "stdout",
     "output_type": "stream",
     "text": [
      "[5, 6, 7, 8, 9, 10, 11, 12, 13, 14, 15, 16, 17, 18, 19]\n"
     ]
    }
   ],
   "source": [
    "my_list =  [number for number in range(5,20)]\n",
    "print(my_list)"
   ]
  },
  {
   "cell_type": "code",
   "execution_count": 12,
   "id": "e283eecd",
   "metadata": {},
   "outputs": [
    {
     "name": "stdout",
     "output_type": "stream",
     "text": [
      "[5, 6, 7, 8]\n"
     ]
    }
   ],
   "source": [
    "my_sublist = my_list[:4]\n",
    "print(my_sublist)"
   ]
  },
  {
   "cell_type": "code",
   "execution_count": 13,
   "id": "38127a7f",
   "metadata": {},
   "outputs": [
    {
     "name": "stdout",
     "output_type": "stream",
     "text": [
      "[8, 9, 10, 11]\n"
     ]
    }
   ],
   "source": [
    "my_sublist = my_list[3:7]\n",
    "print(my_sublist)"
   ]
  },
  {
   "cell_type": "code",
   "execution_count": 15,
   "id": "63f011fb",
   "metadata": {},
   "outputs": [
    {
     "name": "stdout",
     "output_type": "stream",
     "text": [
      "[15, 16, 17, 18, 19]\n"
     ]
    }
   ],
   "source": [
    "my_sublist = my_list[10:]\n",
    "print(my_sublist)"
   ]
  },
  {
   "cell_type": "code",
   "execution_count": 16,
   "id": "70eca9d3",
   "metadata": {},
   "outputs": [
    {
     "name": "stdout",
     "output_type": "stream",
     "text": [
      "[]\n"
     ]
    }
   ],
   "source": [
    "my_sublist = my_list[500:]\n",
    "print(my_sublist)"
   ]
  },
  {
   "cell_type": "code",
   "execution_count": 17,
   "id": "2feb9e77",
   "metadata": {},
   "outputs": [
    {
     "data": {
      "text/plain": [
       "15"
      ]
     },
     "execution_count": 17,
     "metadata": {},
     "output_type": "execute_result"
    }
   ],
   "source": [
    "len(my_list)"
   ]
  },
  {
   "cell_type": "markdown",
   "id": "1f008f12",
   "metadata": {},
   "source": [
    "## Creacion de listas usando range y numpy"
   ]
  },
  {
   "cell_type": "code",
   "execution_count": 19,
   "id": "85b3d5b0",
   "metadata": {},
   "outputs": [
    {
     "name": "stdout",
     "output_type": "stream",
     "text": [
      "[1, 2, 3, 4]\n"
     ]
    }
   ],
   "source": [
    "# inicio,fin, paso)\n",
    "\n",
    "my_list =[*range(1,5,1)] # el asterisco desdobla el rango\n",
    "print (my_list)"
   ]
  },
  {
   "cell_type": "code",
   "execution_count": 20,
   "id": "d70af240",
   "metadata": {},
   "outputs": [
    {
     "name": "stdout",
     "output_type": "stream",
     "text": [
      "[1, 5, 9, 13, 17]\n"
     ]
    }
   ],
   "source": [
    "# inicio,fin, paso)\n",
    "\n",
    "my_list =[*range(1,20,4)] # el asterisco desdobla el rango vaya del 1 al 20 en pasos de 4\n",
    "print (my_list)"
   ]
  },
  {
   "cell_type": "code",
   "execution_count": 21,
   "id": "8d7e4686",
   "metadata": {},
   "outputs": [
    {
     "name": "stdout",
     "output_type": "stream",
     "text": [
      "[1, 5, 9, 13, 17]\n"
     ]
    }
   ],
   "source": [
    "import numpy as np\n",
    "my_list = np.arange(1,20,4).tolist()\n",
    "print(my_list)"
   ]
  },
  {
   "cell_type": "markdown",
   "id": "04917c07",
   "metadata": {},
   "source": [
    "## Listas anidadas"
   ]
  },
  {
   "cell_type": "code",
   "execution_count": 25,
   "id": "4d637796",
   "metadata": {},
   "outputs": [
    {
     "name": "stdout",
     "output_type": "stream",
     "text": [
      "[1, 2, 3, 4, 5]\n",
      "4\n"
     ]
    }
   ],
   "source": [
    "my_list =  [1,2,3,4,5]\n",
    "print(my_list)\n",
    "print(my_list[3])\n"
   ]
  },
  {
   "cell_type": "code",
   "execution_count": 26,
   "id": "e4b95d54",
   "metadata": {},
   "outputs": [
    {
     "name": "stdout",
     "output_type": "stream",
     "text": [
      "[[1, 3, 5], [2, 4, 6]]\n",
      "[2, 4, 6]\n",
      "6\n"
     ]
    }
   ],
   "source": [
    "my_list =  [[1,3,5],[2,4,6]]\n",
    "print(my_list)\n",
    "print(my_list[1])\n",
    "print(my_list[1][2]) # 0, 1, 2"
   ]
  },
  {
   "cell_type": "markdown",
   "id": "a3e5808e",
   "metadata": {},
   "source": [
    "## Ordenando Listas"
   ]
  },
  {
   "cell_type": "code",
   "execution_count": 27,
   "id": "fe925ec1",
   "metadata": {},
   "outputs": [
    {
     "name": "stdout",
     "output_type": "stream",
     "text": [
      "[5, 3, 1, 15, 2, 20]\n",
      "[1, 2, 3, 5, 15, 20]\n"
     ]
    }
   ],
   "source": [
    "my_list = [5,3,1,15,2,20]\n",
    "print(my_list)\n",
    "my_list.sort()\n",
    "print(my_list)"
   ]
  },
  {
   "cell_type": "code",
   "execution_count": 28,
   "id": "3139859d",
   "metadata": {},
   "outputs": [
    {
     "name": "stdout",
     "output_type": "stream",
     "text": [
      "[5, 3, 1, 15, 2, 20]\n",
      "[20, 15, 5, 3, 2, 1]\n"
     ]
    }
   ],
   "source": [
    "my_list = [5,3,1,15,2,20]\n",
    "print(my_list)\n",
    "my_list.sort(reverse=True)\n",
    "print(my_list)"
   ]
  },
  {
   "cell_type": "code",
   "execution_count": 30,
   "id": "a5bd3d24",
   "metadata": {},
   "outputs": [
    {
     "name": "stdout",
     "output_type": "stream",
     "text": [
      "['caballo', 'abeja', 'jirafa', 'ballena']\n",
      "['abeja', 'ballena', 'caballo', 'jirafa']\n"
     ]
    }
   ],
   "source": [
    "my_list = [\"caballo\", \"abeja\", \"jirafa\",\"ballena\"]\n",
    "print(my_list)\n",
    "my_list.sort()\n",
    "print(my_list)"
   ]
  },
  {
   "cell_type": "code",
   "execution_count": 31,
   "id": "72467bfd",
   "metadata": {},
   "outputs": [
    {
     "name": "stdout",
     "output_type": "stream",
     "text": [
      "['caballo', 'abeja', 'jirafa', 'ballena']\n",
      "['jirafa', 'caballo', 'ballena', 'abeja']\n"
     ]
    }
   ],
   "source": [
    "my_list = [\"caballo\", \"abeja\", \"jirafa\",\"ballena\"]\n",
    "print(my_list)\n",
    "my_list.sort(reverse=True)\n",
    "print(my_list)"
   ]
  },
  {
   "cell_type": "markdown",
   "id": "030bcd31",
   "metadata": {},
   "source": [
    "## Conversion de Listas"
   ]
  },
  {
   "cell_type": "markdown",
   "id": "8fbf421d",
   "metadata": {},
   "source": [
    "### Cadenas a Listas"
   ]
  },
  {
   "cell_type": "code",
   "execution_count": 32,
   "id": "e32317e6",
   "metadata": {},
   "outputs": [
    {
     "name": "stdout",
     "output_type": "stream",
     "text": [
      "Curso de Backend Python\n",
      "['Curso', 'de', 'Backend', 'Python']\n"
     ]
    }
   ],
   "source": [
    "# separar palabras\n",
    "my_string = \"Curso de Backend Python\"\n",
    "my_list = my_string.split()\n",
    "print (my_string)\n",
    "print(my_list)"
   ]
  },
  {
   "cell_type": "code",
   "execution_count": 33,
   "id": "15f83fd7",
   "metadata": {},
   "outputs": [
    {
     "name": "stdout",
     "output_type": "stream",
     "text": [
      "Curso de Backend Python\n",
      "['C', 'u', 'r', 's', 'o', ' ', 'd', 'e', ' ', 'B', 'a', 'c', 'k', 'e', 'n', 'd', ' ', 'P', 'y', 't', 'h', 'o', 'n']\n"
     ]
    }
   ],
   "source": [
    "# separar palabras\n",
    "my_string = \"Curso de Backend Python\"\n",
    "my_list = list(my_string) \n",
    "print (my_string)\n",
    "print(my_list)"
   ]
  },
  {
   "cell_type": "code",
   "execution_count": 34,
   "id": "f6083ce4",
   "metadata": {},
   "outputs": [
    {
     "name": "stdout",
     "output_type": "stream",
     "text": [
      "Curso de Backend Python\n",
      "[['C'], ['u'], ['r'], ['s'], ['o'], [' '], ['d'], ['e'], [' '], ['B'], ['a'], ['c'], ['k'], ['e'], ['n'], ['d'], [' '], ['P'], ['y'], ['t'], ['h'], ['o'], ['n']]\n"
     ]
    }
   ],
   "source": [
    "# separar palabras\n",
    "my_string = \"Curso de Backend Python\"\n",
    "my_list = list(map(list,my_string)) \n",
    "print (my_string)\n",
    "print(my_list)"
   ]
  },
  {
   "cell_type": "markdown",
   "id": "ba5866f5",
   "metadata": {},
   "source": [
    "### Listas de cadenas"
   ]
  },
  {
   "cell_type": "code",
   "execution_count": 35,
   "id": "c569a587",
   "metadata": {},
   "outputs": [
    {
     "name": "stdout",
     "output_type": "stream",
     "text": [
      "['curso', 'de', 'Backend', 'python']\n",
      "curso de Backend python\n"
     ]
    }
   ],
   "source": [
    "# usando espacios entre palabras\n",
    "my_list = ['curso', 'de','Backend','python']\n",
    "my_string = \" \".join(my_list)\n",
    "print(my_list)\n",
    "print(my_string)"
   ]
  },
  {
   "cell_type": "code",
   "execution_count": 36,
   "id": "71a8cf09",
   "metadata": {},
   "outputs": [
    {
     "name": "stdout",
     "output_type": "stream",
     "text": [
      "['C', 'u', 'r', 's', 'o', ' ', 'd', 'e', ' ', 'B', 'a', 'c', 'k', 'e', 'n', 'd', ' ', 'P', 'y', 't', 'h', 'o', 'n']\n",
      "C u r s o   d e   B a c k e n d   P y t h o n\n"
     ]
    }
   ],
   "source": [
    "my_list = ['C', 'u', 'r', 's', 'o', ' ', 'd', 'e', ' ', 'B', 'a', 'c', 'k', 'e', 'n', 'd', ' ', 'P', 'y', 't', 'h', 'o', 'n']\n",
    "my_string = \" \".join(my_list)\n",
    "print(my_list)\n",
    "print(my_string)"
   ]
  },
  {
   "cell_type": "code",
   "execution_count": 39,
   "id": "bf6cb2e4",
   "metadata": {},
   "outputs": [
    {
     "name": "stdout",
     "output_type": "stream",
     "text": [
      "[['C'], ['u'], ['r'], ['s'], ['o'], [' '], ['d'], ['e'], [' '], ['B'], ['a'], ['c'], ['k'], ['e'], ['n'], ['d'], [' '], ['P'], ['y'], ['t'], ['h'], ['o'], ['n']]\n",
      "Curso de Backend Python\n"
     ]
    }
   ],
   "source": [
    "my_list = [['C'], ['u'], ['r'], ['s'], ['o'], [' '], ['d'], ['e'], [' '], ['B'], ['a'], ['c'], ['k'], ['e'], ['n'], ['d'], [' '], ['P'], ['y'], ['t'], ['h'], ['o'], ['n']]\n",
    "my_string = \"\".join([\"\".join(element) for element in my_list])\n",
    "print(my_list)\n",
    "print(my_string)"
   ]
  },
  {
   "cell_type": "markdown",
   "id": "c88d2dca",
   "metadata": {},
   "source": [
    "## Creacion de listas con valores de entrada"
   ]
  },
  {
   "cell_type": "code",
   "execution_count": 40,
   "id": "1a16369e",
   "metadata": {},
   "outputs": [
    {
     "name": "stdout",
     "output_type": "stream",
     "text": [
      "Ingresa los valores separados por espacio6 5 4 1 2 4\n",
      "6 5 4 1 2 4\n",
      "['6', '5', '4', '1', '2', '4']\n"
     ]
    }
   ],
   "source": [
    "my_string = input(\"Ingresa los valores separados por espacio\")\n",
    "my_list = my_string.split()\n",
    "print(my_string)\n",
    "print(my_list)"
   ]
  },
  {
   "cell_type": "markdown",
   "id": "f112a99c",
   "metadata": {},
   "source": [
    "# Metodo para manipulacion de listas"
   ]
  },
  {
   "cell_type": "markdown",
   "id": "2bb7312a",
   "metadata": {},
   "source": [
    "### append\n",
    "Agregar un elemento alfinal de una lista"
   ]
  },
  {
   "cell_type": "code",
   "execution_count": 41,
   "id": "c885e70c",
   "metadata": {},
   "outputs": [
    {
     "name": "stdout",
     "output_type": "stream",
     "text": [
      "['caballo', 'abeja', 'jirafa', 'ballena']\n",
      "4\n"
     ]
    }
   ],
   "source": [
    "my_list = [\"caballo\", \"abeja\", \"jirafa\",\"ballena\"]\n",
    "print(my_list)\n",
    "print(len(my_list))"
   ]
  },
  {
   "cell_type": "code",
   "execution_count": 43,
   "id": "fb03bec8",
   "metadata": {},
   "outputs": [
    {
     "name": "stdout",
     "output_type": "stream",
     "text": [
      "['caballo', 'abeja', 'jirafa', 'ballena', 'delfin']\n",
      "5\n"
     ]
    }
   ],
   "source": [
    "my_list.append(\"delfin\")\n",
    "print(my_list)\n",
    "print(len(my_list))"
   ]
  },
  {
   "cell_type": "code",
   "execution_count": 44,
   "id": "7e9d89bb",
   "metadata": {},
   "outputs": [
    {
     "name": "stdout",
     "output_type": "stream",
     "text": [
      "['caballo', 'abeja', 'jirafa', 'ballena', 'delfin', 'gato']\n",
      "6\n"
     ]
    }
   ],
   "source": [
    "my_list.append(\"gato\")\n",
    "print(my_list)\n",
    "print(len(my_list))"
   ]
  },
  {
   "cell_type": "code",
   "execution_count": 45,
   "id": "e5aa1764",
   "metadata": {},
   "outputs": [
    {
     "name": "stdout",
     "output_type": "stream",
     "text": [
      "[300, 500, 100, 200]\n",
      "4\n"
     ]
    }
   ],
   "source": [
    "my_list = [300,500,100,200]\n",
    "print(my_list)\n",
    "print(len(my_list))"
   ]
  },
  {
   "cell_type": "code",
   "execution_count": 46,
   "id": "beadcf17",
   "metadata": {},
   "outputs": [
    {
     "name": "stdout",
     "output_type": "stream",
     "text": [
      "[300, 500, 100, 200, 5]\n",
      "5\n"
     ]
    }
   ],
   "source": [
    "my_list.append(5)\n",
    "print(my_list)\n",
    "print(len(my_list))"
   ]
  },
  {
   "cell_type": "markdown",
   "id": "b8cce19f",
   "metadata": {},
   "source": [
    "## Insert\n",
    "Agregar un valor a una lista en una posicion especifica\n",
    "inser(indice, valor)"
   ]
  },
  {
   "cell_type": "code",
   "execution_count": 48,
   "id": "64a034b7",
   "metadata": {},
   "outputs": [
    {
     "name": "stdout",
     "output_type": "stream",
     "text": [
      "['caballo', 'abeja', 'jirafa', 'ballena']\n",
      "4\n"
     ]
    }
   ],
   "source": [
    "my_list = [\"caballo\", \"abeja\", \"jirafa\",\"ballena\"]\n",
    "print(my_list)\n",
    "print(len(my_list))"
   ]
  },
  {
   "cell_type": "code",
   "execution_count": 49,
   "id": "eb94cf17",
   "metadata": {},
   "outputs": [
    {
     "name": "stdout",
     "output_type": "stream",
     "text": [
      "['caballo', 'abeja', 'delfin', 'jirafa', 'ballena']\n",
      "5\n"
     ]
    }
   ],
   "source": [
    "my_list.insert(2, \"delfin\") # recorre al segundo lugar 0,1,2...\n",
    "print(my_list)\n",
    "print(len(my_list))"
   ]
  },
  {
   "cell_type": "code",
   "execution_count": 50,
   "id": "d6bd66ec",
   "metadata": {},
   "outputs": [
    {
     "name": "stdout",
     "output_type": "stream",
     "text": [
      "['caballo', 'gato', 'abeja', 'delfin', 'jirafa', 'ballena']\n",
      "6\n"
     ]
    }
   ],
   "source": [
    "my_list.insert(1, \"gato\") # recorre al segundo lugar 0,1,2...\n",
    "print(my_list)\n",
    "print(len(my_list))"
   ]
  },
  {
   "cell_type": "markdown",
   "id": "2c98054e",
   "metadata": {},
   "source": [
    "## Clear\n",
    "Eliminar todos los elementos de la lista"
   ]
  },
  {
   "cell_type": "code",
   "execution_count": 51,
   "id": "376f3138",
   "metadata": {},
   "outputs": [
    {
     "name": "stdout",
     "output_type": "stream",
     "text": [
      "['caballo', 'abeja', 'jirafa', 'ballena']\n",
      "4\n"
     ]
    }
   ],
   "source": [
    "my_list = [\"caballo\", \"abeja\", \"jirafa\",\"ballena\"]\n",
    "print(my_list)\n",
    "print(len(my_list))"
   ]
  },
  {
   "cell_type": "code",
   "execution_count": 52,
   "id": "6888c7e8",
   "metadata": {},
   "outputs": [
    {
     "name": "stdout",
     "output_type": "stream",
     "text": [
      "[]\n",
      "0\n"
     ]
    }
   ],
   "source": [
    "my_list.clear() \n",
    "print(my_list)\n",
    "print(len(my_list))"
   ]
  },
  {
   "cell_type": "markdown",
   "id": "92ca08b3",
   "metadata": {},
   "source": [
    "## Copy\n",
    "Copiar los elementos de una lista"
   ]
  },
  {
   "cell_type": "code",
   "execution_count": 3,
   "id": "fa1bf45d",
   "metadata": {},
   "outputs": [
    {
     "name": "stdout",
     "output_type": "stream",
     "text": [
      "['caballo', 'abeja', 'jirafa', 'ballena']\n",
      "4\n"
     ]
    }
   ],
   "source": [
    "my_list = [\"caballo\", \"abeja\", \"jirafa\",\"ballena\"]\n",
    "print(my_list)\n",
    "print(len(my_list))"
   ]
  },
  {
   "cell_type": "code",
   "execution_count": 4,
   "id": "4d97471d",
   "metadata": {},
   "outputs": [
    {
     "name": "stdout",
     "output_type": "stream",
     "text": [
      "['caballo', 'abeja', 'jirafa', 'ballena']\n",
      "4\n"
     ]
    }
   ],
   "source": [
    "my_list_copy = my_list.copy() \n",
    "print(my_list_copy)\n",
    "print(len(my_list_copy))"
   ]
  },
  {
   "cell_type": "markdown",
   "id": "85e256da",
   "metadata": {},
   "source": [
    "my_list_copy.clear() \n",
    "print(my_list_copy)\n",
    "print(len(my_list_copy))\n",
    "print(my_list)\n",
    "print(len(my_list))"
   ]
  },
  {
   "cell_type": "code",
   "execution_count": 6,
   "id": "12bef444",
   "metadata": {},
   "outputs": [
    {
     "name": "stdout",
     "output_type": "stream",
     "text": [
      "[]\n",
      "0\n",
      "[]\n",
      "0\n"
     ]
    }
   ],
   "source": [
    "my_list_assigned= my_list\n",
    "my_list_assigned.clear() \n",
    "\n",
    "print(my_list_assigned)\n",
    "print(len(my_list_assigned))\n",
    "print(my_list)\n",
    "print(len(my_list))"
   ]
  },
  {
   "cell_type": "markdown",
   "id": "d9f6f2e9",
   "metadata": {},
   "source": [
    "## Count\n",
    "Cuenta cuantas veces aparece un elemento en una lista"
   ]
  },
  {
   "cell_type": "code",
   "execution_count": 7,
   "id": "d4ea9320",
   "metadata": {},
   "outputs": [
    {
     "name": "stdout",
     "output_type": "stream",
     "text": [
      "[100, 300, 500, 100, 200, 100, 300]\n"
     ]
    }
   ],
   "source": [
    "my_list = [100, 300,500,100,200,100,300]\n",
    "print(my_list\n",
    "     )"
   ]
  },
  {
   "cell_type": "code",
   "execution_count": 8,
   "id": "ef19ecc4",
   "metadata": {},
   "outputs": [
    {
     "name": "stdout",
     "output_type": "stream",
     "text": [
      "El numero 100 aparece 3 veces en la lista\n"
     ]
    }
   ],
   "source": [
    "print(\"El numero 100 aparece {} veces en la lista\".format(my_list.count(100)))"
   ]
  },
  {
   "cell_type": "code",
   "execution_count": 9,
   "id": "79f41ee6",
   "metadata": {},
   "outputs": [
    {
     "name": "stdout",
     "output_type": "stream",
     "text": [
      "El numero 100 aparece 2 veces en la lista\n"
     ]
    }
   ],
   "source": [
    "print(\"El numero 100 aparece {} veces en la lista\".format(my_list.count(300)))"
   ]
  },
  {
   "cell_type": "markdown",
   "id": "fe7b11a7",
   "metadata": {},
   "source": [
    "## index\n",
    "Obtiene el primer indice de una lista que hace match con el elemento solicitado"
   ]
  },
  {
   "cell_type": "code",
   "execution_count": 10,
   "id": "3a2f035b",
   "metadata": {},
   "outputs": [
    {
     "name": "stdout",
     "output_type": "stream",
     "text": [
      "[100, 300, 500, 100, 200, 100, 300]\n"
     ]
    }
   ],
   "source": [
    "my_list = [100, 300,500,100,200,100,300]\n",
    "print(my_list)"
   ]
  },
  {
   "cell_type": "code",
   "execution_count": 11,
   "id": "e0216745",
   "metadata": {},
   "outputs": [
    {
     "name": "stdout",
     "output_type": "stream",
     "text": [
      "El indice de la primera aparicion del numero 100 es 0\n"
     ]
    }
   ],
   "source": [
    "print(\"El indice de la primera aparicion del numero 100 es {}\".format(my_list.index(100)))"
   ]
  },
  {
   "cell_type": "code",
   "execution_count": 12,
   "id": "b4270ee3",
   "metadata": {},
   "outputs": [
    {
     "name": "stdout",
     "output_type": "stream",
     "text": [
      "El indice de la primera aparicion del numero 100 es 2\n"
     ]
    }
   ],
   "source": [
    "print(\"El indice de la primera aparicion del numero 100 es {}\".format(my_list.index(500)))"
   ]
  },
  {
   "cell_type": "code",
   "execution_count": 13,
   "id": "83d9c2bf",
   "metadata": {},
   "outputs": [
    {
     "name": "stdout",
     "output_type": "stream",
     "text": [
      "El indice de la primera aparicion del numero 100 es 1\n"
     ]
    }
   ],
   "source": [
    "print(\"El indice de la primera aparicion del numero 100 es {}\".format(my_list.index(300)))"
   ]
  },
  {
   "cell_type": "markdown",
   "id": "146ee481",
   "metadata": {},
   "source": [
    "## extend\n",
    "para combinar 2 listas"
   ]
  },
  {
   "cell_type": "code",
   "execution_count": 14,
   "id": "7b365f1f",
   "metadata": {},
   "outputs": [
    {
     "name": "stdout",
     "output_type": "stream",
     "text": [
      "['caballo', 'abeja', 'jirafa', 'ballena']\n",
      "4\n"
     ]
    }
   ],
   "source": [
    "my_list = [\"caballo\", \"abeja\", \"jirafa\",\"ballena\"]\n",
    "print(my_list)\n",
    "print(len(my_list))"
   ]
  },
  {
   "cell_type": "code",
   "execution_count": 15,
   "id": "e478ea64",
   "metadata": {},
   "outputs": [
    {
     "name": "stdout",
     "output_type": "stream",
     "text": [
      "['caballo', 'abeja', 'jirafa', 'ballena', 'delfin', 'gato']\n",
      "6\n"
     ]
    }
   ],
   "source": [
    "my_list_2 = [\"delfin\",\"gato\"]\n",
    "my_list.extend(my_list_2)\n",
    "print(my_list)\n",
    "print(len(my_list))"
   ]
  },
  {
   "cell_type": "code",
   "execution_count": 17,
   "id": "3a9106dd",
   "metadata": {},
   "outputs": [
    {
     "name": "stdout",
     "output_type": "stream",
     "text": [
      "[300, 500, 100, 200]\n",
      "4\n"
     ]
    }
   ],
   "source": [
    "my_list = [300,500,100,200]\n",
    "print(my_list)\n",
    "print(len(my_list))"
   ]
  },
  {
   "cell_type": "code",
   "execution_count": 18,
   "id": "2817cb8c",
   "metadata": {},
   "outputs": [
    {
     "name": "stdout",
     "output_type": "stream",
     "text": [
      "[300, 500, 100, 200, 111, 333]\n",
      "6\n"
     ]
    }
   ],
   "source": [
    "my_list_2 = [111,333]\n",
    "my_list.extend(my_list_2)\n",
    "print(my_list)\n",
    "print(len(my_list))"
   ]
  },
  {
   "cell_type": "markdown",
   "id": "ef9f5085",
   "metadata": {},
   "source": [
    "## pop\n",
    "Eliminar elementos de una lista basado en los indices"
   ]
  },
  {
   "cell_type": "code",
   "execution_count": 19,
   "id": "7db6207c",
   "metadata": {},
   "outputs": [
    {
     "name": "stdout",
     "output_type": "stream",
     "text": [
      "[100, 300, 500, 100, 200, 100, 300]\n",
      "7\n"
     ]
    }
   ],
   "source": [
    "my_list = [100,300,500,100,200,100,300]\n",
    "print(my_list)\n",
    "print(len(my_list))"
   ]
  },
  {
   "cell_type": "code",
   "execution_count": 20,
   "id": "fd3885b4",
   "metadata": {},
   "outputs": [
    {
     "name": "stdout",
     "output_type": "stream",
     "text": [
      "[100, 300, 500, 100, 200, 100]\n",
      "6\n"
     ]
    }
   ],
   "source": [
    "# elimina -1 por default\n",
    "my_list.pop()\n",
    "print(my_list)\n",
    "print(len(my_list))"
   ]
  },
  {
   "cell_type": "code",
   "execution_count": 21,
   "id": "71c359d1",
   "metadata": {},
   "outputs": [
    {
     "name": "stdout",
     "output_type": "stream",
     "text": [
      "[100, 300, 100, 200, 100]\n",
      "5\n"
     ]
    }
   ],
   "source": [
    "my_list.pop(2)\n",
    "print(my_list)\n",
    "print(len(my_list))"
   ]
  },
  {
   "cell_type": "markdown",
   "id": "f922f824",
   "metadata": {},
   "source": [
    "## remove\n",
    "Elimina la primera aparicion de un valor en una lista"
   ]
  },
  {
   "cell_type": "code",
   "execution_count": 22,
   "id": "6a7c12a1",
   "metadata": {},
   "outputs": [
    {
     "name": "stdout",
     "output_type": "stream",
     "text": [
      "[100, 300, 500, 100, 200, 100, 300]\n",
      "7\n"
     ]
    }
   ],
   "source": [
    "my_list = [100,300,500,100,200,100,300]\n",
    "print(my_list)\n",
    "print(len(my_list))"
   ]
  },
  {
   "cell_type": "code",
   "execution_count": 23,
   "id": "a19b5a17",
   "metadata": {},
   "outputs": [
    {
     "name": "stdout",
     "output_type": "stream",
     "text": [
      "[300, 500, 100, 200, 100, 300]\n",
      "6\n"
     ]
    }
   ],
   "source": [
    "my_list.remove(100)\n",
    "print(my_list)\n",
    "print(len(my_list))"
   ]
  },
  {
   "cell_type": "code",
   "execution_count": 24,
   "id": "9ae6f33d",
   "metadata": {},
   "outputs": [
    {
     "name": "stdout",
     "output_type": "stream",
     "text": [
      "[300, 500, 200, 100, 300]\n",
      "5\n"
     ]
    }
   ],
   "source": [
    "my_list.remove(100)\n",
    "print(my_list)\n",
    "print(len(my_list))"
   ]
  },
  {
   "cell_type": "code",
   "execution_count": 25,
   "id": "c79fb431",
   "metadata": {},
   "outputs": [
    {
     "ename": "ValueError",
     "evalue": "list.remove(x): x not in list",
     "output_type": "error",
     "traceback": [
      "\u001b[1;31m---------------------------------------------------------------------------\u001b[0m",
      "\u001b[1;31mValueError\u001b[0m                                Traceback (most recent call last)",
      "Cell \u001b[1;32mIn[25], line 1\u001b[0m\n\u001b[1;32m----> 1\u001b[0m my_list\u001b[38;5;241m.\u001b[39mremove(\u001b[38;5;241m600\u001b[39m)\n\u001b[0;32m      2\u001b[0m \u001b[38;5;28mprint\u001b[39m(my_list)\n\u001b[0;32m      3\u001b[0m \u001b[38;5;28mprint\u001b[39m(\u001b[38;5;28mlen\u001b[39m(my_list))\n",
      "\u001b[1;31mValueError\u001b[0m: list.remove(x): x not in list"
     ]
    }
   ],
   "source": [
    "# error si un valor no esta en la lista\n",
    "my_list.remove(600)\n",
    "print(my_list)\n",
    "print(len(my_list))"
   ]
  },
  {
   "cell_type": "markdown",
   "id": "cb29308c",
   "metadata": {},
   "source": [
    "## reverse\n",
    "\n",
    "Invierte el orden de una lista"
   ]
  },
  {
   "cell_type": "code",
   "execution_count": 26,
   "id": "0e7908f3",
   "metadata": {},
   "outputs": [
    {
     "name": "stdout",
     "output_type": "stream",
     "text": [
      "['caballo', 'abeja', 'jirafa', 'ballena']\n",
      "4\n"
     ]
    }
   ],
   "source": [
    "my_list = [\"caballo\", \"abeja\", \"jirafa\",\"ballena\"]\n",
    "print(my_list)\n",
    "print(len(my_list))"
   ]
  },
  {
   "cell_type": "code",
   "execution_count": 27,
   "id": "6893a45d",
   "metadata": {},
   "outputs": [
    {
     "name": "stdout",
     "output_type": "stream",
     "text": [
      "['ballena', 'jirafa', 'abeja', 'caballo']\n",
      "4\n"
     ]
    }
   ],
   "source": [
    "my_list.reverse()\n",
    "print(my_list)\n",
    "print(len(my_list))"
   ]
  },
  {
   "cell_type": "markdown",
   "id": "0777bbf4",
   "metadata": {},
   "source": [
    "## sort\n",
    "\n",
    "Ordena los elementos de una lista"
   ]
  },
  {
   "cell_type": "code",
   "execution_count": 28,
   "id": "988babe8",
   "metadata": {},
   "outputs": [
    {
     "name": "stdout",
     "output_type": "stream",
     "text": [
      "[5, 3, 1, 15, 2, 20]\n",
      "[1, 2, 3, 5, 15, 20]\n"
     ]
    }
   ],
   "source": [
    "my_list = [5,3,1,15,2,20]\n",
    "print(my_list)\n",
    "my_list.sort()\n",
    "print(my_list)"
   ]
  },
  {
   "cell_type": "code",
   "execution_count": 29,
   "id": "44bbfb5e",
   "metadata": {},
   "outputs": [
    {
     "name": "stdout",
     "output_type": "stream",
     "text": [
      "[5, 3, 1, 15, 2, 20]\n",
      "[20, 15, 5, 3, 2, 1]\n"
     ]
    }
   ],
   "source": [
    "my_list = [5,3,1,15,2,20]\n",
    "print(my_list)\n",
    "my_list.sort(reverse=True)\n",
    "print(my_list)"
   ]
  },
  {
   "cell_type": "code",
   "execution_count": 30,
   "id": "b13cce4b",
   "metadata": {},
   "outputs": [
    {
     "name": "stdout",
     "output_type": "stream",
     "text": [
      "['caballo', 'abeja', 'jirafa', 'ballena']\n",
      "['jirafa', 'caballo', 'ballena', 'abeja']\n"
     ]
    }
   ],
   "source": [
    "my_list = [\"caballo\", \"abeja\", \"jirafa\",\"ballena\"]\n",
    "print(my_list)\n",
    "my_list.sort(reverse=True)\n",
    "print(my_list)"
   ]
  },
  {
   "cell_type": "markdown",
   "id": "30290723",
   "metadata": {},
   "source": [
    "## Obtener un elemento aleatorio de una lista"
   ]
  },
  {
   "cell_type": "code",
   "execution_count": 31,
   "id": "34ea3bfa",
   "metadata": {},
   "outputs": [
    {
     "name": "stdout",
     "output_type": "stream",
     "text": [
      "[5, 3, 1, 15, 2, 20]\n"
     ]
    }
   ],
   "source": [
    "my_list = [5,3,1,15,2,20]\n",
    "print(my_list)"
   ]
  },
  {
   "cell_type": "code",
   "execution_count": 32,
   "id": "686e3f5c",
   "metadata": {},
   "outputs": [],
   "source": [
    "import random"
   ]
  },
  {
   "cell_type": "code",
   "execution_count": 33,
   "id": "dae3a9df",
   "metadata": {},
   "outputs": [
    {
     "name": "stdout",
     "output_type": "stream",
     "text": [
      "1\n"
     ]
    }
   ],
   "source": [
    "print(random.choice(my_list))"
   ]
  },
  {
   "cell_type": "code",
   "execution_count": 34,
   "id": "f959a595",
   "metadata": {},
   "outputs": [
    {
     "name": "stdout",
     "output_type": "stream",
     "text": [
      "15\n"
     ]
    }
   ],
   "source": [
    "print(random.choice(my_list))"
   ]
  },
  {
   "cell_type": "code",
   "execution_count": 35,
   "id": "d361ce80",
   "metadata": {},
   "outputs": [
    {
     "name": "stdout",
     "output_type": "stream",
     "text": [
      "20\n"
     ]
    }
   ],
   "source": [
    "print(random.choice(my_list))"
   ]
  },
  {
   "cell_type": "code",
   "execution_count": 36,
   "id": "468931d0",
   "metadata": {},
   "outputs": [
    {
     "name": "stdout",
     "output_type": "stream",
     "text": [
      "20\n"
     ]
    }
   ],
   "source": [
    "print(random.choice(my_list))"
   ]
  },
  {
   "cell_type": "code",
   "execution_count": 37,
   "id": "195236d2",
   "metadata": {},
   "outputs": [
    {
     "name": "stdout",
     "output_type": "stream",
     "text": [
      "20\n"
     ]
    }
   ],
   "source": [
    "print(random.choice(my_list))"
   ]
  },
  {
   "cell_type": "code",
   "execution_count": null,
   "id": "24eb3e86",
   "metadata": {},
   "outputs": [],
   "source": []
  }
 ],
 "metadata": {
  "kernelspec": {
   "display_name": "Python 3 (ipykernel)",
   "language": "python",
   "name": "python3"
  },
  "language_info": {
   "codemirror_mode": {
    "name": "ipython",
    "version": 3
   },
   "file_extension": ".py",
   "mimetype": "text/x-python",
   "name": "python",
   "nbconvert_exporter": "python",
   "pygments_lexer": "ipython3",
   "version": "3.11.7"
  }
 },
 "nbformat": 4,
 "nbformat_minor": 5
}
