{
 "cells": [
  {
   "cell_type": "markdown",
   "id": "559fa4e6",
   "metadata": {},
   "source": [
    "# Indexacion de Cadeas\n",
    "- ¿Que e sun indice?\n",
    "- ¿Por que es necesario?\n",
    "\n",
    "- Indexacion sifnifica acceder a los elementos\n",
    "- Para acceder a los elementos podemos usar corchetes \"[]\"\n",
    "- El inidice o numero que pongamos en los corchetes se refiere a la posicion de la lista ordenada\n",
    "- La indexacion puede usarse para extraer elementos de una estructura de datos\n",
    "- En python, toda la idexacion desde el numero 0 como primera posicion.\n",
    "- En python tenemos dos tipos de indices:\n",
    "     - Positivos: comienzan desde 0; estos indices buscan de izquirda a derecha la posicion solicitada\n",
    "     - Negativos: comienzan desde -1; estos indices buscan de derecha a izquierda la posicion solicitada"
   ]
  },
  {
   "cell_type": "markdown",
   "id": "f3cb789a",
   "metadata": {},
   "source": [
    "# Segementacion de Candenas "
   ]
  },
  {
   "cell_type": "code",
   "execution_count": 5,
   "id": "9bb6056f",
   "metadata": {},
   "outputs": [
    {
     "name": "stdout",
     "output_type": "stream",
     "text": [
      "Curso de Backend Python\n",
      "<class 'str'>\n",
      "C\n",
      "Curso\n",
      "Curso\n",
      "Curso de Backend Python\n",
      "de Ba\n"
     ]
    }
   ],
   "source": [
    "# Indices positivos\n",
    "my_string = \"Curso de Backend Python\"\n",
    "print(my_string)\n",
    "print(type(my_string))\n",
    "print(my_string[0])\n",
    "print(my_string[0:5]) # el indice 0,1,2,3,4\n",
    "print(my_string[:5]) # el indice 0,1,2,3,4\n",
    "print(my_string[:]) # todos\n",
    "print(my_string[6:11]) # 6,7,8,9,10"
   ]
  },
  {
   "cell_type": "code",
   "execution_count": 1,
   "id": "6d7cec8f",
   "metadata": {},
   "outputs": [
    {
     "name": "stdout",
     "output_type": "stream",
     "text": [
      "n\n",
      "n\n",
      "ython\n"
     ]
    }
   ],
   "source": [
    "# Indices negativos\n",
    "my_string = \"Curso de Backend Python\"\n",
    "print(my_string[len(my_string)-1])\n",
    "print(my_string[-1])\n",
    "print(my_string[-5:])"
   ]
  },
  {
   "cell_type": "markdown",
   "id": "1e12fdc5",
   "metadata": {},
   "source": [
    "# Concatenacion de Cadenas"
   ]
  },
  {
   "cell_type": "code",
   "execution_count": 4,
   "id": "b9b91ba0",
   "metadata": {},
   "outputs": [
    {
     "name": "stdout",
     "output_type": "stream",
     "text": [
      "Curso\n",
      "Backend Python\n",
      "CursoBackend Python\n",
      "CursoBackend Python\n",
      "Curso Backend Python\n",
      "Curso Backend Python\n"
     ]
    }
   ],
   "source": [
    "my_string_1 = \"Curso\"\n",
    "my_string_2 = \"Backend Python\"\n",
    "print(my_string_1)\n",
    "print(my_string_2)\n",
    "print(my_string_1+my_string_2)\n",
    "print(my_string_1+my_string_2)\n",
    "print(my_string_1+\" \"+my_string_2)\n",
    "print(\"{} {}\".format(my_string_1, my_string_2))"
   ]
  },
  {
   "cell_type": "code",
   "execution_count": 6,
   "id": "f18693a9",
   "metadata": {},
   "outputs": [
    {
     "name": "stdout",
     "output_type": "stream",
     "text": [
      "1020\n",
      "1020\n",
      "30\n",
      "30\n"
     ]
    }
   ],
   "source": [
    "my_string_1 = \"10\"\n",
    "my_string_2 = \"20\"\n",
    "print(my_string_1+my_string_2)\n",
    "print (eval(my_string_1+my_string_2))\n",
    "print (eval(\"{}+{}\".format (my_string_1, my_string_2)))\n",
    "print(int(my_string_1)+ int(my_string_2))"
   ]
  },
  {
   "cell_type": "markdown",
   "id": "1959434e",
   "metadata": {},
   "source": [
    "# Multiplicacion de cadenas"
   ]
  },
  {
   "cell_type": "code",
   "execution_count": 7,
   "id": "8c7d7ccc",
   "metadata": {},
   "outputs": [
    {
     "name": "stdout",
     "output_type": "stream",
     "text": [
      "cargando ...cargando ...cargando ...cargando ...cargando ...\n"
     ]
    }
   ],
   "source": [
    "my_string = \"cargando ...\"\n",
    "print(my_string*5)"
   ]
  },
  {
   "cell_type": "code",
   "execution_count": 8,
   "id": "0ad46cf1",
   "metadata": {},
   "outputs": [
    {
     "name": "stdout",
     "output_type": "stream",
     "text": [
      "cargando ...\n",
      "cargando ...\n",
      "cargando ...\n",
      "cargando ...\n",
      "cargando ...\n",
      "\n"
     ]
    }
   ],
   "source": [
    "my_string = \"cargando ...\\n\"\n",
    "print(my_string*5)"
   ]
  },
  {
   "cell_type": "code",
   "execution_count": 9,
   "id": "127d44df",
   "metadata": {},
   "outputs": [
    {
     "name": "stdout",
     "output_type": "stream",
     "text": [
      "\n"
     ]
    }
   ],
   "source": [
    "#vacio\n",
    "my_string = \"cargando ...\"\n",
    "print(-6*my_string)"
   ]
  },
  {
   "cell_type": "markdown",
   "id": "95163ca5",
   "metadata": {},
   "source": [
    "## Comparacion de cadenas"
   ]
  },
  {
   "cell_type": "code",
   "execution_count": 11,
   "id": "c33e8332",
   "metadata": {},
   "outputs": [
    {
     "name": "stdout",
     "output_type": "stream",
     "text": [
      "True\n"
     ]
    }
   ],
   "source": [
    "my_string_1 = \"Prueba\"\n",
    "my_string_2 = \"prueba\"\n",
    "print(my_string_1 != my_string_2)"
   ]
  },
  {
   "cell_type": "code",
   "execution_count": 12,
   "id": "5d29a103",
   "metadata": {},
   "outputs": [
    {
     "name": "stdout",
     "output_type": "stream",
     "text": [
      "False\n"
     ]
    }
   ],
   "source": [
    "my_string_1 = \"Prueba\"\n",
    "my_string_2 = \"prueba\"\n",
    "print(my_string_1 == my_string_2)"
   ]
  },
  {
   "cell_type": "markdown",
   "id": "a16a593e",
   "metadata": {},
   "source": [
    "# Funciones de cadenas"
   ]
  },
  {
   "cell_type": "markdown",
   "id": "0b58bd35",
   "metadata": {},
   "source": [
    "### split\n",
    "Dicvide la cadena basandose en el separador especificado"
   ]
  },
  {
   "cell_type": "code",
   "execution_count": 15,
   "id": "208dcb49",
   "metadata": {},
   "outputs": [
    {
     "name": "stdout",
     "output_type": "stream",
     "text": [
      "['El', 'curso', 'de', 'backend', 'python', 'de', 'EBAC', 'te', 'lleva', 'de', 'la', 'mano', 'para', 'que', 'aprendas', 'a', 'programar']\n"
     ]
    }
   ],
   "source": [
    "my_string = \"El curso de backend python de EBAC te lleva de la mano para que aprendas a programar\"\n",
    "split_result = my_string.split(\" \")\n",
    "\n",
    "print(split_result)\n"
   ]
  },
  {
   "cell_type": "code",
   "execution_count": 16,
   "id": "9eb2ce54",
   "metadata": {},
   "outputs": [
    {
     "name": "stdout",
     "output_type": "stream",
     "text": [
      "user123\n",
      "gmail.com\n"
     ]
    }
   ],
   "source": [
    "my_string = \"user123@gmail.com\"\n",
    "\n",
    "username, domain = my_string.split(\"@\")\n",
    "\n",
    "\n",
    "print(username)\n",
    "print(domain)"
   ]
  },
  {
   "cell_type": "code",
   "execution_count": 3,
   "id": "58acbb00",
   "metadata": {},
   "outputs": [
    {
     "name": "stdout",
     "output_type": "stream",
     "text": [
      "date: 2022-09-28\n",
      "log_level: error\n",
      "message:  Este es un mensaje de error\n",
      "date: 2022-09-27\n",
      "log_level: Warning\n",
      "message: Este es un  mensaje de advertencia\n",
      "date: 2022-09-25\n",
      "log_level: info\n",
      "message: este es un mensaje informativo\n"
     ]
    }
   ],
   "source": [
    "my_string = \"\"\"2022-09-28|error| Este es un mensaje de error\n",
    "2022-09-27|Warning|Este es un  mensaje de advertencia\n",
    "2022-09-25|info|este es un mensaje informativo\"\"\"\n",
    "\n",
    "logs = my_string.split(\"\\n\")\n",
    "for log in  logs:\n",
    "    date, log_level, message = log.split(\"|\")\n",
    "    print(\"date:\", date)\n",
    "    print(\"log_level:\",log_level)\n",
    "    print(\"message:\",message)"
   ]
  },
  {
   "cell_type": "markdown",
   "id": "88897516",
   "metadata": {},
   "source": [
    "### index / find"
   ]
  },
  {
   "cell_type": "markdown",
   "id": "642cdad2",
   "metadata": {},
   "source": [
    "Busca la primer posicion de la subcadena en la cadena deseada"
   ]
  },
  {
   "cell_type": "code",
   "execution_count": 4,
   "id": "808b5806",
   "metadata": {},
   "outputs": [
    {
     "name": "stdout",
     "output_type": "stream",
     "text": [
      "La primer posicion de 'Python' en my_string es: 20\n",
      "La primer posicion de 'Python' en my_string es: 20\n"
     ]
    }
   ],
   "source": [
    "my_string = \"El curso de BAckend Python de EBAC te lleva de la mano para que aprendas a programar\"\n",
    "print(\"La primer posicion de 'Python' en my_string es:\", my_string.index (\"Python\"))\n",
    "print(\"La primer posicion de 'Python' en my_string es:\", my_string.find (\"Python\"))"
   ]
  },
  {
   "cell_type": "code",
   "execution_count": 5,
   "id": "04adb165",
   "metadata": {},
   "outputs": [
    {
     "name": "stdout",
     "output_type": "stream",
     "text": [
      "La primer posicion de 'Python' en my_string es: 12\n",
      "La primer posicion de 'Python' en my_string es: 12\n"
     ]
    }
   ],
   "source": [
    "my_string = \"El curso de Backend Python de EBAC te lleva de la mano para que aprendas a programar\"\n",
    "print(\"La primer posicion de 'Python' en my_string es:\", my_string.index (\"Backend\"))\n",
    "print(\"La primer posicion de 'Python' en my_string es:\", my_string.find (\"Backend\"))"
   ]
  },
  {
   "cell_type": "code",
   "execution_count": 6,
   "id": "3c2ffd56",
   "metadata": {},
   "outputs": [
    {
     "name": "stdout",
     "output_type": "stream",
     "text": [
      "La primer posicion de 'Python' en my_string es: 0\n",
      "La primer posicion de 'Python' en my_string es: 0\n"
     ]
    }
   ],
   "source": [
    "my_string = \"El curso de Backend Python de EBAC te lleva de la mano para que aprendas a programar\"\n",
    "print(\"La primer posicion de 'Python' en my_string es:\", my_string.index (\"E\"))\n",
    "print(\"La primer posicion de 'Python' en my_string es:\", my_string.find (\"E\"))"
   ]
  },
  {
   "cell_type": "markdown",
   "id": "f4f0b1c7",
   "metadata": {},
   "source": [
    "### Cuenta \n",
    "El numero de apariciones de la subcadena solicitada en la cadena completa"
   ]
  },
  {
   "cell_type": "code",
   "execution_count": 7,
   "id": "25746acd",
   "metadata": {},
   "outputs": [
    {
     "name": "stdout",
     "output_type": "stream",
     "text": [
      "La cantidad de 'E' en my_string es: 2\n"
     ]
    }
   ],
   "source": [
    "my_string = \"El curso de Backend Python de EBAC te lleva de la mano para que aprendas a programar\"\n",
    "\n",
    "print(\"La cantidad de 'E' en my_string es:\", my_string.count (\"E\"))"
   ]
  },
  {
   "cell_type": "code",
   "execution_count": 8,
   "id": "1c666745",
   "metadata": {},
   "outputs": [
    {
     "name": "stdout",
     "output_type": "stream",
     "text": [
      "La cantidad de 'de' en my_string es: 3\n"
     ]
    }
   ],
   "source": [
    "my_string = \"El curso de Backend Python de EBAC te lleva de la mano para que aprendas a programar\"\n",
    "\n",
    "print(\"La cantidad de 'de' en my_string es:\", my_string.count (\"de\"))"
   ]
  },
  {
   "cell_type": "markdown",
   "id": "eb0d2bd8",
   "metadata": {},
   "source": [
    "### len\n",
    "Cuenta la longitud o cuantos caracteres hay"
   ]
  },
  {
   "cell_type": "code",
   "execution_count": 10,
   "id": "a88e7d44",
   "metadata": {},
   "outputs": [
    {
     "name": "stdout",
     "output_type": "stream",
     "text": [
      "La cantidad de 'caracteres' en my_string es: 84\n"
     ]
    }
   ],
   "source": [
    "my_string = \"El curso de Backend Python de EBAC te lleva de la mano para que aprendas a programar\"\n",
    "\n",
    "print(\"La cantidad de 'caracteres' en my_string es:\", len(my_string))"
   ]
  },
  {
   "cell_type": "code",
   "execution_count": 11,
   "id": "0d62bb0a",
   "metadata": {},
   "outputs": [
    {
     "name": "stdout",
     "output_type": "stream",
     "text": [
      "La cantidad de 'caracteres' en my_string es: 14\n"
     ]
    }
   ],
   "source": [
    "my_string = \"Backend Python\"\n",
    "\n",
    "print(\"La cantidad de 'caracteres' en my_string es:\", len(my_string))"
   ]
  },
  {
   "cell_type": "markdown",
   "id": "d269d1f7",
   "metadata": {},
   "source": [
    "### strip\n",
    "Remueve espacios"
   ]
  },
  {
   "cell_type": "code",
   "execution_count": 13,
   "id": "a007d3e1",
   "metadata": {},
   "outputs": [
    {
     "name": "stdout",
     "output_type": "stream",
     "text": [
      "[           Backend Python      ]\n",
      "[Backend Python]\n"
     ]
    }
   ],
   "source": [
    "my_string = \"           Backend Python      \"\n",
    "\n",
    "print(\"[{}]\".format(my_string))\n",
    "print(\"[{}]\".format(my_string.strip()))"
   ]
  },
  {
   "cell_type": "code",
   "execution_count": 14,
   "id": "b1b47877",
   "metadata": {},
   "outputs": [
    {
     "name": "stdout",
     "output_type": "stream",
     "text": [
      "[      \n",
      "\n",
      "\n",
      "\t\r",
      "  Backend Python \n",
      "\n",
      "\n",
      "\t\r",
      " ]\n",
      "[Backend Python]\n"
     ]
    }
   ],
   "source": [
    "my_string = \"      \\n\\n\\n\\t\\r  Backend Python \\n\\n\\n\\t\\r \"\n",
    "\n",
    "print(\"[{}]\".format(my_string))\n",
    "print(\"[{}]\".format(my_string.strip()))"
   ]
  },
  {
   "cell_type": "code",
   "execution_count": 15,
   "id": "4b989dfd",
   "metadata": {},
   "outputs": [
    {
     "name": "stdout",
     "output_type": "stream",
     "text": [
      "[Backend Python]\n",
      "[Backend Pytho]\n"
     ]
    }
   ],
   "source": [
    "my_string = \"Backend Python\"\n",
    "\n",
    "print(\"[{}]\".format(my_string))\n",
    "print(\"[{}]\".format(my_string.strip(\"n\")))"
   ]
  },
  {
   "cell_type": "markdown",
   "id": "519756ae",
   "metadata": {},
   "source": [
    "### isdecimal / isnumeric / isdigit\n",
    "Analiza la cadena contiene solamente numeros/ enteros"
   ]
  },
  {
   "cell_type": "code",
   "execution_count": 16,
   "id": "c182cff4",
   "metadata": {},
   "outputs": [
    {
     "name": "stdout",
     "output_type": "stream",
     "text": [
      "True\n",
      "True\n",
      "True\n"
     ]
    }
   ],
   "source": [
    "my_string = \"1215465456251123\"\n",
    "\n",
    "print(my_string.isdecimal())\n",
    "print(my_string.isnumeric())\n",
    "print(my_string.isdigit())"
   ]
  },
  {
   "cell_type": "code",
   "execution_count": 17,
   "id": "58d87837",
   "metadata": {},
   "outputs": [
    {
     "name": "stdout",
     "output_type": "stream",
     "text": [
      "False\n",
      "False\n",
      "False\n"
     ]
    }
   ],
   "source": [
    "my_string = \"121546.5456251123\"\n",
    "\n",
    "print(my_string.isdecimal())\n",
    "print(my_string.isnumeric())\n",
    "print(my_string.isdigit())"
   ]
  },
  {
   "cell_type": "code",
   "execution_count": 18,
   "id": "b755f0f0",
   "metadata": {},
   "outputs": [
    {
     "name": "stdout",
     "output_type": "stream",
     "text": [
      "False\n",
      "False\n",
      "False\n"
     ]
    }
   ],
   "source": [
    "my_string = \"1215465456251123test\"\n",
    "\n",
    "print(my_string.isdecimal())\n",
    "print(my_string.isnumeric())\n",
    "print(my_string.isdigit())"
   ]
  },
  {
   "cell_type": "code",
   "execution_count": 19,
   "id": "4c867d23",
   "metadata": {},
   "outputs": [
    {
     "name": "stdout",
     "output_type": "stream",
     "text": [
      "False\n",
      "False\n",
      "False\n"
     ]
    }
   ],
   "source": [
    "my_string = \"12154654 56251123\"\n",
    "\n",
    "print(my_string.isdecimal())\n",
    "print(my_string.isnumeric())\n",
    "print(my_string.isdigit())"
   ]
  },
  {
   "cell_type": "markdown",
   "id": "1cc5505f",
   "metadata": {},
   "source": [
    "### isalnum\n",
    "Analiza si todos los cafracteres son alfanumericos (letras o numeros)"
   ]
  },
  {
   "cell_type": "code",
   "execution_count": 20,
   "id": "bc8fd89b",
   "metadata": {},
   "outputs": [
    {
     "name": "stdout",
     "output_type": "stream",
     "text": [
      "True\n"
     ]
    }
   ],
   "source": [
    "my_string = \"1215465456251123\"\n",
    "\n",
    "print(my_string.isalnum())\n"
   ]
  },
  {
   "cell_type": "code",
   "execution_count": 21,
   "id": "0c1ae646",
   "metadata": {},
   "outputs": [
    {
     "name": "stdout",
     "output_type": "stream",
     "text": [
      "False\n"
     ]
    }
   ],
   "source": [
    "my_string = \"1215465.456251123\"\n",
    "\n",
    "print(my_string.isalnum())"
   ]
  },
  {
   "cell_type": "code",
   "execution_count": 22,
   "id": "e94df75c",
   "metadata": {},
   "outputs": [
    {
     "name": "stdout",
     "output_type": "stream",
     "text": [
      "True\n"
     ]
    }
   ],
   "source": [
    "my_string = \"1215465456251123test\"\n",
    "\n",
    "print(my_string.isalnum())"
   ]
  },
  {
   "cell_type": "code",
   "execution_count": 23,
   "id": "d1fbb2a6",
   "metadata": {},
   "outputs": [
    {
     "name": "stdout",
     "output_type": "stream",
     "text": [
      "False\n"
     ]
    }
   ],
   "source": [
    "my_string = \"1215465 456251123\"\n",
    "\n",
    "print(my_string.isalnum())"
   ]
  },
  {
   "cell_type": "markdown",
   "id": "24d64047",
   "metadata": {},
   "source": [
    "### isupper\n",
    "\n",
    "Analiza que todas las letras presnetes en la cadena son mayusculas"
   ]
  },
  {
   "cell_type": "code",
   "execution_count": 24,
   "id": "e3451288",
   "metadata": {},
   "outputs": [
    {
     "name": "stdout",
     "output_type": "stream",
     "text": [
      "False\n"
     ]
    }
   ],
   "source": [
    "my_string = \"test\"\n",
    "\n",
    "print(my_string.isupper())"
   ]
  },
  {
   "cell_type": "code",
   "execution_count": 25,
   "id": "cb8e7d37",
   "metadata": {},
   "outputs": [
    {
     "name": "stdout",
     "output_type": "stream",
     "text": [
      "True\n"
     ]
    }
   ],
   "source": [
    "my_string = \"TEST\"\n",
    "\n",
    "print(my_string.isupper())"
   ]
  },
  {
   "cell_type": "code",
   "execution_count": 26,
   "id": "f96005ac",
   "metadata": {},
   "outputs": [
    {
     "name": "stdout",
     "output_type": "stream",
     "text": [
      "False\n"
     ]
    }
   ],
   "source": [
    "my_string = \"Test\"\n",
    "\n",
    "print(my_string.isupper())"
   ]
  },
  {
   "cell_type": "code",
   "execution_count": 27,
   "id": "5b93f8dd",
   "metadata": {},
   "outputs": [
    {
     "name": "stdout",
     "output_type": "stream",
     "text": [
      "True\n"
     ]
    }
   ],
   "source": [
    "my_string = \"TEST12345\"\n",
    "\n",
    "print(my_string.isupper())"
   ]
  },
  {
   "cell_type": "markdown",
   "id": "c7d6a12d",
   "metadata": {},
   "source": [
    "### islower\n",
    "Analiza si todas las letras presentes en la cadena son minusculas"
   ]
  },
  {
   "cell_type": "code",
   "execution_count": 28,
   "id": "ec190b05",
   "metadata": {},
   "outputs": [
    {
     "name": "stdout",
     "output_type": "stream",
     "text": [
      "False\n"
     ]
    }
   ],
   "source": [
    "my_string = \"TEST12345\"\n",
    "\n",
    "print(my_string.islower())"
   ]
  },
  {
   "cell_type": "code",
   "execution_count": 30,
   "id": "ec9e5828",
   "metadata": {},
   "outputs": [
    {
     "name": "stdout",
     "output_type": "stream",
     "text": [
      "True\n"
     ]
    }
   ],
   "source": [
    "my_string = \"test\"\n",
    "\n",
    "print(my_string.islower())"
   ]
  },
  {
   "cell_type": "code",
   "execution_count": 31,
   "id": "5b59c205",
   "metadata": {},
   "outputs": [
    {
     "name": "stdout",
     "output_type": "stream",
     "text": [
      "False\n"
     ]
    }
   ],
   "source": [
    "my_string = \"Test\"\n",
    "\n",
    "print(my_string.islower())"
   ]
  },
  {
   "cell_type": "code",
   "execution_count": 32,
   "id": "e6cf9f19",
   "metadata": {},
   "outputs": [
    {
     "name": "stdout",
     "output_type": "stream",
     "text": [
      "False\n"
     ]
    }
   ],
   "source": [
    "my_string = \"TEST\"\n",
    "\n",
    "print(my_string.islower())"
   ]
  },
  {
   "cell_type": "markdown",
   "id": "2cf12572",
   "metadata": {},
   "source": [
    "### join\n",
    "Crea una cadena de una lista usando el separador especificado\n"
   ]
  },
  {
   "cell_type": "code",
   "execution_count": 33,
   "id": "d5e486c8",
   "metadata": {},
   "outputs": [
    {
     "name": "stdout",
     "output_type": "stream",
     "text": [
      "132|22|389\n"
     ]
    }
   ],
   "source": [
    "num_list = [\"132\", \"22\",\"389\"] # list\n",
    "separador = \"|\"\n",
    "print(separador.join(num_list))\n"
   ]
  },
  {
   "cell_type": "code",
   "execution_count": 34,
   "id": "0051d41f",
   "metadata": {},
   "outputs": [
    {
     "name": "stdout",
     "output_type": "stream",
     "text": [
      "132-22-389\n"
     ]
    }
   ],
   "source": [
    "num_list = [\"132\", \"22\",\"389\"] # list\n",
    "separador = \"-\"\n",
    "print(separador.join(num_list))\n"
   ]
  },
  {
   "cell_type": "code",
   "execution_count": 35,
   "id": "c1de255a",
   "metadata": {},
   "outputs": [
    {
     "name": "stdout",
     "output_type": "stream",
     "text": [
      "132,22,389\n"
     ]
    }
   ],
   "source": [
    "num_list = [\"132\", \"22\",\"389\"] # list\n",
    "separador = \",\"\n",
    "print(separador.join(num_list))\n"
   ]
  },
  {
   "cell_type": "markdown",
   "id": "b37d1939",
   "metadata": {},
   "source": [
    "### Capitalize\n",
    "Hace mayuscula la primer letra"
   ]
  },
  {
   "cell_type": "code",
   "execution_count": 36,
   "id": "0843974f",
   "metadata": {},
   "outputs": [
    {
     "name": "stdout",
     "output_type": "stream",
     "text": [
      "Backend python\n"
     ]
    }
   ],
   "source": [
    "my_string = \"backend python\"\n",
    "\n",
    "print(my_string.capitalize())"
   ]
  },
  {
   "cell_type": "markdown",
   "id": "edf4e423",
   "metadata": {},
   "source": [
    "### format\n",
    "nos ayuda a configurar valores dentro de una cadena que es nuestro molde"
   ]
  },
  {
   "cell_type": "code",
   "execution_count": 37,
   "id": "11c5be60",
   "metadata": {},
   "outputs": [
    {
     "name": "stdout",
     "output_type": "stream",
     "text": [
      "44 es el valor\n",
      "23 es el valor\n",
      "7 es el valor\n"
     ]
    }
   ],
   "source": [
    "my_string = \"{} es el valor\"\n",
    "\n",
    "print(my_string.format(\"44\"))\n",
    "print(my_string.format(\"23\"))\n",
    "print(my_string.format(\"7\"))"
   ]
  },
  {
   "cell_type": "code",
   "execution_count": 39,
   "id": "4523d5f9",
   "metadata": {},
   "outputs": [
    {
     "name": "stdout",
     "output_type": "stream",
     "text": [
      "year: 1995 hora: 9:40\n",
      "year: 2000 hora: 14:40\n",
      "year: 2022 hora: 3:21\n"
     ]
    }
   ],
   "source": [
    "my_string = \"year: {} hora: {}\"\n",
    "\n",
    "print(my_string.format(\"1995\", \"9:40\"))\n",
    "print(my_string.format(\"2000\", \"14:40\"))\n",
    "print(my_string.format(\"2022\", \"3:21\"))"
   ]
  },
  {
   "cell_type": "code",
   "execution_count": 40,
   "id": "65eb9b55",
   "metadata": {},
   "outputs": [
    {
     "name": "stdout",
     "output_type": "stream",
     "text": [
      "hora: 9:40 year: 1995\n",
      "hora: 14:40 year: 2000\n",
      "hora: 3:21 year: 2022\n"
     ]
    }
   ],
   "source": [
    "my_string = \"hora: {1} year: {0}\"\n",
    "\n",
    "print(my_string.format(\"1995\", \"9:40\"))\n",
    "print(my_string.format(\"2000\", \"14:40\"))\n",
    "print(my_string.format(\"2022\", \"3:21\"))"
   ]
  },
  {
   "cell_type": "markdown",
   "id": "cdc0661b",
   "metadata": {},
   "source": [
    "### center\n",
    "Centra el texto dada cierta longitud "
   ]
  },
  {
   "cell_type": "code",
   "execution_count": 41,
   "id": "7fcf4475",
   "metadata": {},
   "outputs": [
    {
     "name": "stdout",
     "output_type": "stream",
     "text": [
      "[ Probando funciones ]\n",
      "[      Probando funciones      ]\n",
      "[           Probando funciones           ]\n",
      "[                Probando funciones                ]\n"
     ]
    }
   ],
   "source": [
    "my_string = \"Probando funciones\"\n",
    "print (\"[{}]\". format(my_string.center(20)))\n",
    "print (\"[{}]\". format(my_string.center(30)))\n",
    "print (\"[{}]\". format(my_string.center(40)))\n",
    "print (\"[{}]\". format(my_string.center(50)))"
   ]
  },
  {
   "cell_type": "markdown",
   "id": "8ff7c32c",
   "metadata": {},
   "source": [
    "### endswith\n",
    "Evalua si la cadena termina con el caracter o palabra o subcadena solicitada"
   ]
  },
  {
   "cell_type": "code",
   "execution_count": 42,
   "id": "53f5f30d",
   "metadata": {},
   "outputs": [
    {
     "name": "stdout",
     "output_type": "stream",
     "text": [
      "True\n"
     ]
    }
   ],
   "source": [
    "my_string = \"Probando funciones\"\n",
    "\n",
    "print (my_string.endswith(\"s\"))"
   ]
  },
  {
   "cell_type": "code",
   "execution_count": 43,
   "id": "a437a3a3",
   "metadata": {},
   "outputs": [
    {
     "name": "stdout",
     "output_type": "stream",
     "text": [
      "True\n"
     ]
    }
   ],
   "source": [
    "my_string = \"Probando funciones\"\n",
    "\n",
    "print (my_string.endswith(\"funciones\"))"
   ]
  },
  {
   "cell_type": "code",
   "execution_count": 44,
   "id": "48f5010d",
   "metadata": {},
   "outputs": [
    {
     "name": "stdout",
     "output_type": "stream",
     "text": [
      "True\n"
     ]
    }
   ],
   "source": [
    "my_string = \"Probando funciones\"\n",
    "\n",
    "print (my_string.endswith(\"ando funciones\"))"
   ]
  },
  {
   "cell_type": "code",
   "execution_count": 45,
   "id": "6e04f5a3",
   "metadata": {},
   "outputs": [
    {
     "name": "stdout",
     "output_type": "stream",
     "text": [
      "False\n"
     ]
    }
   ],
   "source": [
    "my_string = \"Probando funciones\"\n",
    "\n",
    "print (my_string.endswith(\"probando\"))"
   ]
  },
  {
   "cell_type": "markdown",
   "id": "dd3141ba",
   "metadata": {},
   "source": [
    "### swapcase\n",
    "Invierte mayusculas y minusculas"
   ]
  },
  {
   "cell_type": "code",
   "execution_count": 46,
   "id": "641c0ae5",
   "metadata": {},
   "outputs": [
    {
     "name": "stdout",
     "output_type": "stream",
     "text": [
      "pROBANDO FUNCIONES\n"
     ]
    }
   ],
   "source": [
    "my_string = \"Probando funciones\"\n",
    "\n",
    "print (my_string.swapcase())"
   ]
  },
  {
   "cell_type": "code",
   "execution_count": 47,
   "id": "6e29a3ca",
   "metadata": {},
   "outputs": [
    {
     "name": "stdout",
     "output_type": "stream",
     "text": [
      "probando FUNCIONES\n"
     ]
    }
   ],
   "source": [
    "my_string = \"PROBANDO funciones\"\n",
    "\n",
    "print (my_string.swapcase())"
   ]
  },
  {
   "cell_type": "markdown",
   "id": "a673002e",
   "metadata": {},
   "source": [
    "### Replace\n",
    "Reemplaza una subcadena por otra subcadena dentro d euna cadena"
   ]
  },
  {
   "cell_type": "code",
   "execution_count": 49,
   "id": "961028c9",
   "metadata": {},
   "outputs": [
    {
     "name": "stdout",
     "output_type": "stream",
     "text": [
      "Usando funciones\n"
     ]
    }
   ],
   "source": [
    "my_string = \"Probando funciones\"\n",
    "\n",
    "print (my_string.replace(\"Probando\",\"Usando\"))"
   ]
  },
  {
   "cell_type": "code",
   "execution_count": 50,
   "id": "4c5fea26",
   "metadata": {},
   "outputs": [
    {
     "name": "stdout",
     "output_type": "stream",
     "text": [
      "Probando\n",
      "funciones\n"
     ]
    }
   ],
   "source": [
    "my_string = \"Probando funciones\"\n",
    "\n",
    "print (my_string.replace(\" \",\"\\n\"))"
   ]
  },
  {
   "cell_type": "code",
   "execution_count": 1,
   "id": "c7c87575",
   "metadata": {},
   "outputs": [
    {
     "name": "stdout",
     "output_type": "stream",
     "text": [
      "Probando funciones\n"
     ]
    }
   ],
   "source": [
    "my_string = \"Probando funciones\"\n",
    "\n",
    "print (my_string.replace(\"0\",\"Usando\"))"
   ]
  },
  {
   "cell_type": "code",
   "execution_count": 2,
   "id": "63b29c9b",
   "metadata": {},
   "outputs": [
    {
     "name": "stdout",
     "output_type": "stream",
     "text": [
      "Probando funciones\n"
     ]
    }
   ],
   "source": [
    "my_string = \"Probando funciones\"\n",
    "\n",
    "print (my_string.replace(\"y\",\"o\")) # si esta presente el primer string lo sustituye por el segundo si noe sta presente deja la cadena como esta"
   ]
  },
  {
   "cell_type": "markdown",
   "id": "d95e2754",
   "metadata": {},
   "source": [
    "### Formateo de cadenas y datetime"
   ]
  },
  {
   "cell_type": "code",
   "execution_count": 3,
   "id": "208f3610",
   "metadata": {},
   "outputs": [
    {
     "name": "stdout",
     "output_type": "stream",
     "text": [
      "2024-06-03 16:22:23.029177\n"
     ]
    }
   ],
   "source": [
    "from datetime import datetime\n",
    "now = datetime.now()\n",
    "\n",
    "print(now)"
   ]
  },
  {
   "cell_type": "code",
   "execution_count": 7,
   "id": "440b3eaa",
   "metadata": {},
   "outputs": [
    {
     "name": "stdout",
     "output_type": "stream",
     "text": [
      "Year: 2024\n",
      "Mes: 06\n",
      "Dia: 03\n",
      "Hora: 16:22:23\n"
     ]
    }
   ],
   "source": [
    "year = now.strftime(\"%Y\")\n",
    "month = now.strftime(\"%m\")\n",
    "day = now.strftime(\"%d\")\n",
    "time = now.strftime(\"%H:%M:%S\")\n",
    "print(\"Year:\", year)\n",
    "print(\"Mes:\", month)\n",
    "print(\"Dia:\", day)\n",
    "print(\"Hora:\", time)"
   ]
  },
  {
   "cell_type": "markdown",
   "id": "6d695d51",
   "metadata": {},
   "source": [
    "### Reverse / Reversa\n",
    "invertir una cadena\n"
   ]
  },
  {
   "cell_type": "code",
   "execution_count": 9,
   "id": "7d9c1a55",
   "metadata": {},
   "outputs": [
    {
     "name": "stdout",
     "output_type": "stream",
     "text": [
      "senoicnuf odnaborP\n"
     ]
    }
   ],
   "source": [
    "my_string = \"Probando funciones\"\n",
    "print(my_string [::-1])"
   ]
  },
  {
   "cell_type": "code",
   "execution_count": null,
   "id": "38904e45",
   "metadata": {},
   "outputs": [],
   "source": []
  }
 ],
 "metadata": {
  "kernelspec": {
   "display_name": "Python 3 (ipykernel)",
   "language": "python",
   "name": "python3"
  },
  "language_info": {
   "codemirror_mode": {
    "name": "ipython",
    "version": 3
   },
   "file_extension": ".py",
   "mimetype": "text/x-python",
   "name": "python",
   "nbconvert_exporter": "python",
   "pygments_lexer": "ipython3",
   "version": "3.11.7"
  }
 },
 "nbformat": 4,
 "nbformat_minor": 5
}
