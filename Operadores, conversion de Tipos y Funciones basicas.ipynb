{
 "cells": [
  {
   "cell_type": "markdown",
   "id": "b5490959",
   "metadata": {},
   "source": [
    "# Operadores y Tipos de Operadores"
   ]
  },
  {
   "cell_type": "markdown",
   "id": "a62ff233",
   "metadata": {},
   "source": [
    "¿Que son los operadores?\n",
    "- Son un conjunto de simbolo para un lenguaje de programacion\n",
    "- Pueden decirle al comilador o interprete que ejecute ciertas acciones para producir un resultado final\n",
    "- Pueden ser usados para aplicar operaciones en variables o valores\n",
    "- Pueden ser calsificados segun su tipo (aritmeticos, de asignacion, racionales, logicos, afilacion y de identidad)"
   ]
  },
  {
   "cell_type": "markdown",
   "id": "3dcfef51",
   "metadata": {},
   "source": [
    "Tipos de Operadores:\n",
    "- Aritmeticos\n",
    "- Relacionales\n",
    "- De asignacion\n",
    "- Logicos\n",
    "- De afiliacion \n",
    "- De identidad "
   ]
  },
  {
   "cell_type": "markdown",
   "id": "a5b12b90",
   "metadata": {},
   "source": [
    "### Operadores aritmeticos\n",
    "- \"+\": suma\n",
    "- \"-\": resta\n",
    "- \"*\": multiplicacion\n",
    "- \"/\": division\n",
    "- \"//\": division con redondeo hacia abajo\n",
    "- \"**\": exponente"
   ]
  },
  {
   "cell_type": "code",
   "execution_count": 2,
   "id": "95e16a4e",
   "metadata": {},
   "outputs": [
    {
     "name": "stdout",
     "output_type": "stream",
     "text": [
      "El resultado de num_1+num_2 es: 800\n"
     ]
    }
   ],
   "source": [
    "# \"+\": suma\n",
    "num_1 = 500\n",
    "num_2 = 300\n",
    "print (\"El resultado de num_1+num_2 es:\",num_1+num_2)"
   ]
  },
  {
   "cell_type": "code",
   "execution_count": 3,
   "id": "fb6b14ac",
   "metadata": {},
   "outputs": [
    {
     "name": "stdout",
     "output_type": "stream",
     "text": [
      "El resultado de num_1+num_2 es: 1100\n"
     ]
    }
   ],
   "source": [
    "# \"+\": suma\n",
    "num_1 = 200\n",
    "num_2 = 900\n",
    "print (\"El resultado de num_1+num_2 es:\",num_1+num_2)"
   ]
  },
  {
   "cell_type": "code",
   "execution_count": 6,
   "id": "bc9e5b33",
   "metadata": {},
   "outputs": [
    {
     "name": "stdout",
     "output_type": "stream",
     "text": [
      "El resultado de num_1-num_2 es: 200\n"
     ]
    }
   ],
   "source": [
    "# \"-\": resta\n",
    "num_1 = 500\n",
    "num_2 = 300\n",
    "print (\"El resultado de num_1-num_2 es:\",num_1-num_2)"
   ]
  },
  {
   "cell_type": "code",
   "execution_count": 7,
   "id": "5f0f8cea",
   "metadata": {},
   "outputs": [
    {
     "name": "stdout",
     "output_type": "stream",
     "text": [
      "El resultado de num_1-num_2 es: -700\n"
     ]
    }
   ],
   "source": [
    "# \"-\": resta\n",
    "num_1 = 200\n",
    "num_2 = 900\n",
    "print (\"El resultado de num_1-num_2 es:\",num_1-num_2)"
   ]
  },
  {
   "cell_type": "code",
   "execution_count": 8,
   "id": "f2fe10a7",
   "metadata": {},
   "outputs": [
    {
     "name": "stdout",
     "output_type": "stream",
     "text": [
      "El resultado de num_1*num_2 es: 150000\n"
     ]
    }
   ],
   "source": [
    "# \"*\": multiplicacion\n",
    "num_1 = 500\n",
    "num_2 = 300\n",
    "print (\"El resultado de num_1*num_2 es:\",num_1*num_2)"
   ]
  },
  {
   "cell_type": "code",
   "execution_count": 9,
   "id": "eaaf71fe",
   "metadata": {},
   "outputs": [
    {
     "name": "stdout",
     "output_type": "stream",
     "text": [
      "El resultado de num_1*num_2 es: 180000\n"
     ]
    }
   ],
   "source": [
    "# \"*\": multiplicacion\n",
    "num_1 = 200\n",
    "num_2 = 900\n",
    "print (\"El resultado de num_1*num_2 es:\",num_1*num_2)"
   ]
  },
  {
   "cell_type": "code",
   "execution_count": 10,
   "id": "981fdb5a",
   "metadata": {},
   "outputs": [
    {
     "name": "stdout",
     "output_type": "stream",
     "text": [
      "El resultado de num_1/num_2 es: 1.6666666666666667\n"
     ]
    }
   ],
   "source": [
    "# \"/\": division\n",
    "num_1 = 500\n",
    "num_2 = 300\n",
    "print (\"El resultado de num_1/num_2 es:\",num_1/num_2)"
   ]
  },
  {
   "cell_type": "code",
   "execution_count": 11,
   "id": "43ef8b26",
   "metadata": {},
   "outputs": [
    {
     "name": "stdout",
     "output_type": "stream",
     "text": [
      "El resultado de num_1/num_2 es: 0.2222222222222222\n"
     ]
    }
   ],
   "source": [
    "# \"/\": division\n",
    "num_1 = 200\n",
    "num_2 = 900\n",
    "print (\"El resultado de num_1/num_2 es:\",num_1/num_2)"
   ]
  },
  {
   "cell_type": "code",
   "execution_count": 12,
   "id": "ffc745a8",
   "metadata": {},
   "outputs": [
    {
     "name": "stdout",
     "output_type": "stream",
     "text": [
      "El resultado de num_1//num_2 es: 1\n"
     ]
    }
   ],
   "source": [
    "# \"//\": division con redondeo hacia abajo, parte entera del resultado\n",
    "num_1 = 500\n",
    "num_2 = 300\n",
    "print (\"El resultado de num_1//num_2 es:\",num_1//num_2)"
   ]
  },
  {
   "cell_type": "code",
   "execution_count": 13,
   "id": "75a0c04c",
   "metadata": {},
   "outputs": [
    {
     "name": "stdout",
     "output_type": "stream",
     "text": [
      "El resultado de num_1//num_2 es: 0\n"
     ]
    }
   ],
   "source": [
    "# \"//\": division con redondeo hacia abajo, parte entera del resultado\n",
    "num_1 = 200\n",
    "num_2 = 900\n",
    "print (\"El resultado de num_1//num_2 es:\",num_1//num_2)"
   ]
  },
  {
   "cell_type": "code",
   "execution_count": 14,
   "id": "99b1d08a",
   "metadata": {},
   "outputs": [
    {
     "name": "stdout",
     "output_type": "stream",
     "text": [
      "El resultado de num_1**num_2 es: 32\n"
     ]
    }
   ],
   "source": [
    "# \"**\": exponente\n",
    "num_1 = 2\n",
    "num_2 = 5\n",
    "print (\"El resultado de num_1**num_2 es:\",num_1**num_2)"
   ]
  },
  {
   "cell_type": "code",
   "execution_count": 15,
   "id": "46169909",
   "metadata": {},
   "outputs": [
    {
     "name": "stdout",
     "output_type": "stream",
     "text": [
      "El resultado de num_1**num_2 es: 27\n"
     ]
    }
   ],
   "source": [
    "# \"**\": exponente\n",
    "num_1 = 3\n",
    "num_2 = 3\n",
    "print (\"El resultado de num_1**num_2 es:\",num_1**num_2)"
   ]
  },
  {
   "cell_type": "markdown",
   "id": "c3c1c295",
   "metadata": {},
   "source": [
    "### Operadores relacionales"
   ]
  },
  {
   "cell_type": "markdown",
   "id": "449cd6df",
   "metadata": {},
   "source": [
    "¿Que son los operadores Relacionales?\n",
    "- Son tambien conocidos como operadores de comparacion\n",
    "- Regresan un valor booleano (verdadero o Falso)\n",
    "- En python son usados para comparar o relacionar los valores\n",
    "- Verdadero/True, es el reusltado cuando la condicion es exitosa\n",
    "- Falso/False es el resultado cuando la condicion no se cumple\n",
    "- Estos operadores se encargan de las operaciones de comparacion "
   ]
  },
  {
   "cell_type": "markdown",
   "id": "86a6599a",
   "metadata": {},
   "source": [
    "Tipos de Operadores Relaiconales\n",
    "- \"==\": igual a \n",
    "- \"!=\": Diferente a \n",
    "- \">\": Mayor que\n",
    "- \">=\": mayor o igual que\n",
    "- \"<\": menor que     \n",
    "- \"<=\": menor o igual que     "
   ]
  },
  {
   "cell_type": "code",
   "execution_count": 16,
   "id": "d85bbab1",
   "metadata": {},
   "outputs": [],
   "source": [
    "# \"==\": igual a"
   ]
  },
  {
   "cell_type": "code",
   "execution_count": 17,
   "id": "bf2cf427",
   "metadata": {},
   "outputs": [
    {
     "name": "stdout",
     "output_type": "stream",
     "text": [
      "El resultado de num_1==num_2 es: False\n"
     ]
    }
   ],
   "source": [
    "num_1 = 570 #asignacion\n",
    "num_2 = 420 \n",
    "print (\"El resultado de num_1==num_2 es:\",num_1==num_2)"
   ]
  },
  {
   "cell_type": "code",
   "execution_count": 18,
   "id": "bcbb121c",
   "metadata": {},
   "outputs": [
    {
     "name": "stdout",
     "output_type": "stream",
     "text": [
      "El resultado de num_1==num_2 es: True\n"
     ]
    }
   ],
   "source": [
    "num_1 = 570 #asignacion\n",
    "num_2 = 570 \n",
    "print (\"El resultado de num_1==num_2 es:\",num_1==num_2)"
   ]
  },
  {
   "cell_type": "code",
   "execution_count": 19,
   "id": "eec1de24",
   "metadata": {},
   "outputs": [
    {
     "name": "stdout",
     "output_type": "stream",
     "text": [
      "El resultado de str_1==str_2 es: True\n"
     ]
    }
   ],
   "source": [
    "str_1 = \"Backend Python\" # asignacion\n",
    "str_2 = \"Backend Python\"\n",
    "print (\"El resultado de str_1==str_2 es:\",str_1==str_2)"
   ]
  },
  {
   "cell_type": "code",
   "execution_count": 20,
   "id": "f95137a4",
   "metadata": {},
   "outputs": [
    {
     "name": "stdout",
     "output_type": "stream",
     "text": [
      "El resultado de str_1==str_2 es: False\n"
     ]
    }
   ],
   "source": [
    "str_1 = \"Backend Python\" # asignacion\n",
    "str_2 = \"Backend python\"\n",
    "print (\"El resultado de str_1==str_2 es:\",str_1==str_2)"
   ]
  },
  {
   "cell_type": "code",
   "execution_count": 21,
   "id": "5cd1f5ea",
   "metadata": {},
   "outputs": [],
   "source": [
    "# \"!=\": Diferente a"
   ]
  },
  {
   "cell_type": "code",
   "execution_count": 22,
   "id": "df4c8c3b",
   "metadata": {},
   "outputs": [
    {
     "name": "stdout",
     "output_type": "stream",
     "text": [
      "El resultado de num_1!=num_2 es: True\n"
     ]
    }
   ],
   "source": [
    "num_1 = 570 #asignacion\n",
    "num_2 = 420 \n",
    "print (\"El resultado de num_1!=num_2 es:\",num_1!=num_2)"
   ]
  },
  {
   "cell_type": "code",
   "execution_count": 23,
   "id": "f0087797",
   "metadata": {},
   "outputs": [
    {
     "name": "stdout",
     "output_type": "stream",
     "text": [
      "El resultado de num_1!=num_2 es: False\n"
     ]
    }
   ],
   "source": [
    "num_1 = 570 #asignacion\n",
    "num_2 = 570 \n",
    "print (\"El resultado de num_1!=num_2 es:\",num_1!=num_2)"
   ]
  },
  {
   "cell_type": "code",
   "execution_count": 24,
   "id": "a33ee612",
   "metadata": {},
   "outputs": [
    {
     "name": "stdout",
     "output_type": "stream",
     "text": [
      "El resultado de str_1!=str_2 es: False\n"
     ]
    }
   ],
   "source": [
    "str_1 = \"Backend Python\" # asignacion\n",
    "str_2 = \"Backend Python\"\n",
    "print (\"El resultado de str_1!=str_2 es:\",str_1!=str_2)"
   ]
  },
  {
   "cell_type": "code",
   "execution_count": 25,
   "id": "4abc82b3",
   "metadata": {},
   "outputs": [
    {
     "name": "stdout",
     "output_type": "stream",
     "text": [
      "El resultado de str_1!=str_2 es: True\n"
     ]
    }
   ],
   "source": [
    "str_1 = \"Backend Python\" # asignacion\n",
    "str_2 = \"Backend python\"\n",
    "print (\"El resultado de str_1!=str_2 es:\",str_1!=str_2)"
   ]
  },
  {
   "cell_type": "code",
   "execution_count": 27,
   "id": "7ac7bff4",
   "metadata": {},
   "outputs": [
    {
     "name": "stdout",
     "output_type": "stream",
     "text": [
      "El resultado de num_>num_2 es: True\n"
     ]
    }
   ],
   "source": [
    "# \">\": mayor que\n",
    "num_1 = 570 #asignacion\n",
    "num_2 = 420 \n",
    "print (\"El resultado de num_>num_2 es:\",num_1>num_2)"
   ]
  },
  {
   "cell_type": "code",
   "execution_count": 28,
   "id": "57566821",
   "metadata": {},
   "outputs": [
    {
     "name": "stdout",
     "output_type": "stream",
     "text": [
      "El resultado de num_>num_2 es: False\n"
     ]
    }
   ],
   "source": [
    "# \">\": mayor que\n",
    "num_1 = 570 #asignacion\n",
    "num_2 = 570 \n",
    "print (\"El resultado de num_>num_2 es:\",num_1>num_2)"
   ]
  },
  {
   "cell_type": "code",
   "execution_count": 29,
   "id": "beb42568",
   "metadata": {},
   "outputs": [
    {
     "name": "stdout",
     "output_type": "stream",
     "text": [
      "El resultado de num_>num_2 es: False\n"
     ]
    }
   ],
   "source": [
    "num_1 = 570 #asignacion\n",
    "num_2 = 890 \n",
    "print (\"El resultado de num_>num_2 es:\",num_1>num_2)"
   ]
  },
  {
   "cell_type": "code",
   "execution_count": 30,
   "id": "d507ad5f",
   "metadata": {},
   "outputs": [],
   "source": [
    "# \">=\": mayor o igual que"
   ]
  },
  {
   "cell_type": "code",
   "execution_count": 31,
   "id": "06aaaec1",
   "metadata": {},
   "outputs": [
    {
     "name": "stdout",
     "output_type": "stream",
     "text": [
      "El resultado de num_>=num_2 es: True\n"
     ]
    }
   ],
   "source": [
    "num_1 = 570 #asignacion\n",
    "num_2 = 420 \n",
    "print (\"El resultado de num_>=num_2 es:\",num_1>=num_2)"
   ]
  },
  {
   "cell_type": "code",
   "execution_count": 32,
   "id": "46f01fcd",
   "metadata": {},
   "outputs": [
    {
     "name": "stdout",
     "output_type": "stream",
     "text": [
      "El resultado de num_>=num_2 es: False\n"
     ]
    }
   ],
   "source": [
    "num_1 = 570 #asignacion\n",
    "num_2 = 890 \n",
    "print (\"El resultado de num_>=num_2 es:\",num_1>=num_2)"
   ]
  },
  {
   "cell_type": "code",
   "execution_count": 33,
   "id": "c7586c00",
   "metadata": {},
   "outputs": [],
   "source": [
    "# \"<\": menor que"
   ]
  },
  {
   "cell_type": "code",
   "execution_count": 34,
   "id": "767e03a9",
   "metadata": {},
   "outputs": [
    {
     "name": "stdout",
     "output_type": "stream",
     "text": [
      "El resultado de num_<num_2 es: False\n"
     ]
    }
   ],
   "source": [
    "num_1 = 570 #asignacion\n",
    "num_2 = 420 \n",
    "print (\"El resultado de num_<num_2 es:\",num_1<num_2)"
   ]
  },
  {
   "cell_type": "code",
   "execution_count": 35,
   "id": "d65e2d48",
   "metadata": {},
   "outputs": [
    {
     "name": "stdout",
     "output_type": "stream",
     "text": [
      "El resultado de num_<num_2 es: False\n"
     ]
    }
   ],
   "source": [
    "num_1 = 570 #asignacion\n",
    "num_2 = 570 \n",
    "print (\"El resultado de num_<num_2 es:\",num_1<num_2)"
   ]
  },
  {
   "cell_type": "code",
   "execution_count": 36,
   "id": "b7973faf",
   "metadata": {},
   "outputs": [
    {
     "name": "stdout",
     "output_type": "stream",
     "text": [
      "El resultado de num_<num_2 es: True\n"
     ]
    }
   ],
   "source": [
    "num_1 = 570 #asignacion\n",
    "num_2 = 890 \n",
    "print (\"El resultado de num_<num_2 es:\",num_1<num_2)"
   ]
  },
  {
   "cell_type": "code",
   "execution_count": 37,
   "id": "a4245543",
   "metadata": {},
   "outputs": [],
   "source": [
    "# \"<=\": menor o igual que"
   ]
  },
  {
   "cell_type": "code",
   "execution_count": 38,
   "id": "c34c58fd",
   "metadata": {},
   "outputs": [
    {
     "name": "stdout",
     "output_type": "stream",
     "text": [
      "El resultado de num_<num_2 es: False\n"
     ]
    }
   ],
   "source": [
    "num_1 = 570 #asignacion\n",
    "num_2 = 420 \n",
    "print (\"El resultado de num_<num_2 es:\",num_1<=num_2)"
   ]
  },
  {
   "cell_type": "code",
   "execution_count": 39,
   "id": "d879b223",
   "metadata": {},
   "outputs": [
    {
     "name": "stdout",
     "output_type": "stream",
     "text": [
      "El resultado de num_<num_2 es: True\n"
     ]
    }
   ],
   "source": [
    "num_1 = 570 #asignacion\n",
    "num_2 = 570 \n",
    "print (\"El resultado de num_<num_2 es:\",num_1<=num_2)"
   ]
  },
  {
   "cell_type": "code",
   "execution_count": 40,
   "id": "8066c81e",
   "metadata": {},
   "outputs": [
    {
     "name": "stdout",
     "output_type": "stream",
     "text": [
      "El resultado de num_<num_2 es: True\n"
     ]
    }
   ],
   "source": [
    "num_1 = 570 #asignacion\n",
    "num_2 = 890 \n",
    "print (\"El resultado de num_<num_2 es:\",num_1<=num_2)"
   ]
  },
  {
   "cell_type": "markdown",
   "id": "bb736179",
   "metadata": {},
   "source": [
    "### Operadores de asignacion"
   ]
  },
  {
   "cell_type": "markdown",
   "id": "3c9e8118",
   "metadata": {},
   "source": [
    "¿Que son los operadores de asignacion?\n",
    "- En python son usados para asignar valores a variables\n",
    "- Incluyen al operador de asignacion que es el signo de igual (=)"
   ]
  },
  {
   "cell_type": "markdown",
   "id": "c6868530",
   "metadata": {},
   "source": [
    "Tipos de Operadores de Asignacion:\n",
    "- \"=\": Operador de Asignacion\n",
    "- \"+=\": Sumar y Asignar\n",
    "- \"-=\": restar y asignar\n",
    "- \"*=\": multiplicar y asignar\n",
    "- \"/=\": dividir y asignar\n",
    "- \"//=\": Dividir con redonde hacia abajo y asignar\n",
    "- \"%=\": Modulo y Asignar\n",
    "- \"**=\" Exponente y asignar"
   ]
  },
  {
   "cell_type": "code",
   "execution_count": 41,
   "id": "2717f227",
   "metadata": {},
   "outputs": [],
   "source": [
    "# \"=\": Operador de asignacion"
   ]
  },
  {
   "cell_type": "code",
   "execution_count": 42,
   "id": "b33fea70",
   "metadata": {},
   "outputs": [],
   "source": [
    "num_1 = 20\n",
    "num_2 = 3"
   ]
  },
  {
   "cell_type": "code",
   "execution_count": 43,
   "id": "36808e7d",
   "metadata": {},
   "outputs": [],
   "source": [
    "# \"+=\": Operador de asignacion"
   ]
  },
  {
   "cell_type": "code",
   "execution_count": 45,
   "id": "832bc2de",
   "metadata": {},
   "outputs": [
    {
     "name": "stdout",
     "output_type": "stream",
     "text": [
      "num_1 antes de la operacion: 20\n",
      "num_1 despues de la operacion: 23\n"
     ]
    }
   ],
   "source": [
    "num_1 = 20\n",
    "num_2 = 3\n",
    "print (\"num_1 antes de la operacion:\", num_1)\n",
    "num_1 += num_2 # num_1 = num_1 + num_2\n",
    "print (\"num_1 despues de la operacion:\", num_1)"
   ]
  },
  {
   "cell_type": "code",
   "execution_count": 46,
   "id": "c8d1379a",
   "metadata": {},
   "outputs": [
    {
     "name": "stdout",
     "output_type": "stream",
     "text": [
      "num_1 antes de la operacion: 20\n",
      "num_1 despues de la operacion: 17\n"
     ]
    }
   ],
   "source": [
    "num_1 = 20\n",
    "num_2 = 3\n",
    "print (\"num_1 antes de la operacion:\", num_1)\n",
    "num_1 -= num_2 # num_1 = num_1 - num_2\n",
    "print (\"num_1 despues de la operacion:\", num_1)"
   ]
  },
  {
   "cell_type": "code",
   "execution_count": 47,
   "id": "014f5099",
   "metadata": {},
   "outputs": [
    {
     "name": "stdout",
     "output_type": "stream",
     "text": [
      "num_1 antes de la operacion: 20\n",
      "num_1 despues de la operacion: 60\n"
     ]
    }
   ],
   "source": [
    "num_1 = 20\n",
    "num_2 = 3\n",
    "print (\"num_1 antes de la operacion:\", num_1)\n",
    "num_1 *= num_2 # num_1 = num_1 * num_2\n",
    "print (\"num_1 despues de la operacion:\", num_1)"
   ]
  },
  {
   "cell_type": "code",
   "execution_count": 48,
   "id": "4df723dd",
   "metadata": {},
   "outputs": [
    {
     "name": "stdout",
     "output_type": "stream",
     "text": [
      "num_1 antes de la operacion: 20\n",
      "num_1 despues de la operacion: 6.666666666666667\n"
     ]
    }
   ],
   "source": [
    "num_1 = 20\n",
    "num_2 = 3\n",
    "print (\"num_1 antes de la operacion:\", num_1)\n",
    "num_1 /= num_2 # num_1 = num_1 / num_2\n",
    "print (\"num_1 despues de la operacion:\", num_1)"
   ]
  },
  {
   "cell_type": "code",
   "execution_count": 49,
   "id": "e058e3c3",
   "metadata": {},
   "outputs": [
    {
     "name": "stdout",
     "output_type": "stream",
     "text": [
      "num_1 antes de la operacion: 20\n",
      "num_1 despues de la operacion: 6\n"
     ]
    }
   ],
   "source": [
    "num_1 = 20\n",
    "num_2 = 3\n",
    "print (\"num_1 antes de la operacion:\", num_1)\n",
    "num_1 //= num_2 # num_1 = num_1 // num_2\n",
    "print (\"num_1 despues de la operacion:\", num_1)"
   ]
  },
  {
   "cell_type": "code",
   "execution_count": 50,
   "id": "df26179a",
   "metadata": {},
   "outputs": [
    {
     "name": "stdout",
     "output_type": "stream",
     "text": [
      "num_1 antes de la operacion: 20\n",
      "num_1 despues de la operacion: 2\n"
     ]
    }
   ],
   "source": [
    "num_1 = 20\n",
    "num_2 = 3\n",
    "print (\"num_1 antes de la operacion:\", num_1)\n",
    "num_1 %= num_2 # num_1 = num_1 % num_2\n",
    "print (\"num_1 despues de la operacion:\", num_1)"
   ]
  },
  {
   "cell_type": "code",
   "execution_count": 51,
   "id": "bcb49569",
   "metadata": {},
   "outputs": [
    {
     "name": "stdout",
     "output_type": "stream",
     "text": [
      "num_1 antes de la operacion: 20\n",
      "num_1 despues de la operacion: 8000\n"
     ]
    }
   ],
   "source": [
    "num_1 = 20\n",
    "num_2 = 3\n",
    "print (\"num_1 antes de la operacion:\", num_1)\n",
    "num_1 **= num_2 # num_1 = num_1 ** num_2\n",
    "print (\"num_1 despues de la operacion:\", num_1)"
   ]
  },
  {
   "cell_type": "markdown",
   "id": "d728429b",
   "metadata": {},
   "source": [
    "### Operadores logicos"
   ]
  },
  {
   "cell_type": "markdown",
   "id": "ec0a85a0",
   "metadata": {},
   "source": [
    "¿que son operadores logicos?\n",
    "- Son usados principalmente para declaraciones condicionales\n",
    "- Son indicadores estructurales\n",
    "- Tambien se les conoce como conectores logicos\n",
    "- Hay 3 tipos de operadores logicos:\n",
    "    - AND (y) - regresa True/ VErdadero si ambas operaciones son verdaderas\n",
    "    -OR (o) - regresa True/Verdadero i por lo menos una de las operaciones verdaderas\n",
    "    - NOT(lo opuesto) - regresa True/Verdadero si la operacion False/Falso"
   ]
  },
  {
   "cell_type": "code",
   "execution_count": 52,
   "id": "aad942e3",
   "metadata": {},
   "outputs": [],
   "source": [
    "# AND (y)\n",
    "# Todas las condiciones deben ser Verdaderas"
   ]
  },
  {
   "cell_type": "code",
   "execution_count": 53,
   "id": "bb97ec2e",
   "metadata": {},
   "outputs": [
    {
     "name": "stdout",
     "output_type": "stream",
     "text": [
      "num_1<=num_2 and num_1!=num_2 True\n"
     ]
    }
   ],
   "source": [
    "num_1 = 11\n",
    "num_2 = 55\n",
    "# num_1<=num_2: True/Verdadero\n",
    "# num_1!=num_2: True/verdadero\n",
    "print (\"num_1<=num_2 and num_1!=num_2\", num_1<=num_2 and num_1!=num_2)"
   ]
  },
  {
   "cell_type": "code",
   "execution_count": 54,
   "id": "c559e4e1",
   "metadata": {},
   "outputs": [
    {
     "name": "stdout",
     "output_type": "stream",
     "text": [
      "num_1<=num_2 and num_1!=num_2 False\n"
     ]
    }
   ],
   "source": [
    "num_1 = 11\n",
    "num_2 = 11\n",
    "# num_1<=num_2\n",
    "print (\"num_1<=num_2 and num_1!=num_2\", num_1<=num_2 and num_1!=num_2)"
   ]
  },
  {
   "cell_type": "code",
   "execution_count": 55,
   "id": "9c62b78c",
   "metadata": {},
   "outputs": [
    {
     "name": "stdout",
     "output_type": "stream",
     "text": [
      "num_1<=num_2 and num_1!=num_2 True\n"
     ]
    }
   ],
   "source": [
    "num_1 = 11\n",
    "num_2 = 55\n",
    "# num_1<=num_2: True/Verdadero\n",
    "# num_1!=num_2: True/verdadero\n",
    "\n",
    "print (\"num_1<=num_2 and num_1!=num_2\", num_1<=num_2 and num_1!=num_2 and num_1>10)"
   ]
  },
  {
   "cell_type": "code",
   "execution_count": 56,
   "id": "2f587676",
   "metadata": {},
   "outputs": [
    {
     "name": "stdout",
     "output_type": "stream",
     "text": [
      "num_1<=num_2 and num_1!=num_2 False\n"
     ]
    }
   ],
   "source": [
    "num_1 = 11\n",
    "num_2 = 11\n",
    "# num_1<=num_2: True/Verdadero\n",
    "# num_1!=num_2: True/verdadero\n",
    "\n",
    "print (\"num_1<=num_2 and num_1!=num_2\", num_1<=num_2 and num_1!=num_2 and num_1>10)"
   ]
  },
  {
   "cell_type": "code",
   "execution_count": 57,
   "id": "50f0ab51",
   "metadata": {},
   "outputs": [],
   "source": [
    "# OR (o) - con que una de las condiciones se cumpla regresa true\n"
   ]
  },
  {
   "cell_type": "code",
   "execution_count": 58,
   "id": "a1409b49",
   "metadata": {},
   "outputs": [
    {
     "name": "stdout",
     "output_type": "stream",
     "text": [
      "num_1<=num_2 and num_1!=num_2 True\n"
     ]
    }
   ],
   "source": [
    "num_1 = 11\n",
    "num_2 = 55\n",
    "# num_1<=num_2\n",
    "print (\"num_1<=num_2 and num_1!=num_2\", num_1<=num_2 or num_1!=num_2)"
   ]
  },
  {
   "cell_type": "code",
   "execution_count": 59,
   "id": "7dd17107",
   "metadata": {},
   "outputs": [
    {
     "name": "stdout",
     "output_type": "stream",
     "text": [
      "num_1<=num_2 and num_1!=num_2 True\n"
     ]
    }
   ],
   "source": [
    "num_1 = 11\n",
    "num_2 = 11\n",
    "# num_1<=num_2\n",
    "print (\"num_1<=num_2 and num_1!=num_2\", num_1<=num_2 or num_1!=num_2)"
   ]
  },
  {
   "cell_type": "code",
   "execution_count": 60,
   "id": "e2c9b7a6",
   "metadata": {},
   "outputs": [
    {
     "name": "stdout",
     "output_type": "stream",
     "text": [
      "num_1<=num_2 and num_1!=num_2 True\n"
     ]
    }
   ],
   "source": [
    "num_1 = 11\n",
    "num_2 = 11\n",
    "# num_1<=num_2: True/Verdadero\n",
    "# num_1!=num_2: True/verdadero\n",
    "\n",
    "print (\"num_1<=num_2 and num_1!=num_2\", num_1<=num_2 or num_1!=num_2 or num_1>10)"
   ]
  },
  {
   "cell_type": "code",
   "execution_count": 61,
   "id": "966ecc93",
   "metadata": {},
   "outputs": [],
   "source": [
    "# NoT(lo opuesto)\n",
    "# la condicion debe ser falsa"
   ]
  },
  {
   "cell_type": "code",
   "execution_count": 62,
   "id": "57b7344d",
   "metadata": {},
   "outputs": [
    {
     "name": "stdout",
     "output_type": "stream",
     "text": [
      "not num_1<=num_2 False\n"
     ]
    }
   ],
   "source": [
    "num_1 = 11\n",
    "num_2 = 55\n",
    "# num_1<=num_2: True/Verdadero\n",
    "print(\"not num_1<=num_2\", not num_1<=num_2)"
   ]
  },
  {
   "cell_type": "code",
   "execution_count": 63,
   "id": "81e9c4b9",
   "metadata": {},
   "outputs": [
    {
     "name": "stdout",
     "output_type": "stream",
     "text": [
      "not num_1<=num_2 False\n"
     ]
    }
   ],
   "source": [
    "num_1 = 11\n",
    "num_2 = 55\n",
    "# num_1!=num_2: True/Verdadero\n",
    "print(\"not num_1<=num_2\", not num_1!=num_2)"
   ]
  },
  {
   "cell_type": "code",
   "execution_count": 64,
   "id": "3717604b",
   "metadata": {},
   "outputs": [
    {
     "name": "stdout",
     "output_type": "stream",
     "text": [
      "not num_1<=num_2 True\n"
     ]
    }
   ],
   "source": [
    "num_1 = 11\n",
    "num_2 = 55\n",
    "# num_1>num_2: True/Verdadero\n",
    "print(\"not num_1<=num_2\", not num_1>num_2)"
   ]
  },
  {
   "cell_type": "markdown",
   "id": "19586a51",
   "metadata": {},
   "source": [
    "### Operadores de Afiliacion"
   ]
  },
  {
   "cell_type": "markdown",
   "id": "58ccb5bf",
   "metadata": {},
   "source": [
    "¿Que son los operadores de afliacion?\n",
    "- Son usados para validar los elemntos de listas, cadenas y tuplas\n",
    "- validan si una variable esta presente en una secuencia \n",
    "- Regresan un valor booleano con el resultado True/False\n",
    "- Regresa True/ verdadero si el valor esta presnete en la secuencia\n",
    "- Regresa False si el valor no esta presnete en la secuencia\n",
    "- Hay dos operadores de afiliacion\n",
    "    - IN -el valor esta en la secuencia\n",
    "    - NOT IN -el valor esta en la secuencia"
   ]
  },
  {
   "cell_type": "code",
   "execution_count": 65,
   "id": "07aaae37",
   "metadata": {},
   "outputs": [
    {
     "name": "stdout",
     "output_type": "stream",
     "text": [
      "'a' my_string True\n"
     ]
    }
   ],
   "source": [
    "my_string = \"Backend Python\"\n",
    "print(\"'a' my_string\", 'a' in my_string)"
   ]
  },
  {
   "cell_type": "code",
   "execution_count": 67,
   "id": "f0c0cbea",
   "metadata": {},
   "outputs": [
    {
     "name": "stdout",
     "output_type": "stream",
     "text": [
      "'i' my_string False\n"
     ]
    }
   ],
   "source": [
    "my_string = \"Backend Python\"\n",
    "print(\"'i'in my_string\", 'i' in my_string)"
   ]
  },
  {
   "cell_type": "code",
   "execution_count": 71,
   "id": "05253005",
   "metadata": {},
   "outputs": [
    {
     "name": "stdout",
     "output_type": "stream",
     "text": [
      "'5' my_string False\n"
     ]
    }
   ],
   "source": [
    "my_list = [1, 154,321, 22, 11]\n",
    "print(\"'5' my_string\", 5 in my_list)"
   ]
  },
  {
   "cell_type": "code",
   "execution_count": 75,
   "id": "5715af97",
   "metadata": {},
   "outputs": [
    {
     "name": "stdout",
     "output_type": "stream",
     "text": [
      "5 my_list True\n"
     ]
    }
   ],
   "source": [
    "my_list = [1, 154,321, 22, 11, 5, 11, 22, 5, 1]\n",
    "print(\"5 my_list\", 5 in my_list)"
   ]
  },
  {
   "cell_type": "code",
   "execution_count": 76,
   "id": "d1d62e2e",
   "metadata": {
    "scrolled": true
   },
   "outputs": [
    {
     "data": {
      "text/plain": [
       "[1, 154, 321, 22, 11, 5, 11, 22, 5, 1]"
      ]
     },
     "execution_count": 76,
     "metadata": {},
     "output_type": "execute_result"
    }
   ],
   "source": [
    "my_list"
   ]
  },
  {
   "cell_type": "code",
   "execution_count": 79,
   "id": "f1c5ad68",
   "metadata": {},
   "outputs": [
    {
     "name": "stdout",
     "output_type": "stream",
     "text": [
      "5 my_set True\n"
     ]
    }
   ],
   "source": [
    "my_set = {1, 154,321, 22, 11, 5, 11, 22, 5, 1}\n",
    "print(\"5 my_set\", 5 in my_set)"
   ]
  },
  {
   "cell_type": "code",
   "execution_count": 80,
   "id": "690a3391",
   "metadata": {},
   "outputs": [
    {
     "data": {
      "text/plain": [
       "{1, 5, 11, 22, 154, 321}"
      ]
     },
     "execution_count": 80,
     "metadata": {},
     "output_type": "execute_result"
    }
   ],
   "source": [
    "my_set"
   ]
  },
  {
   "cell_type": "code",
   "execution_count": 81,
   "id": "61cbc4e5",
   "metadata": {},
   "outputs": [],
   "source": [
    "#NOT IN (El valor no esta presnete en la secuencia?)"
   ]
  },
  {
   "cell_type": "code",
   "execution_count": 83,
   "id": "bc3b9763",
   "metadata": {},
   "outputs": [
    {
     "name": "stdout",
     "output_type": "stream",
     "text": [
      "'a' not in my_string False\n"
     ]
    }
   ],
   "source": [
    "my_string = \"Backend Python\"\n",
    "print(\"'a' not in my_string\", 'a' not in my_string)"
   ]
  },
  {
   "cell_type": "code",
   "execution_count": 84,
   "id": "82227cca",
   "metadata": {},
   "outputs": [
    {
     "name": "stdout",
     "output_type": "stream",
     "text": [
      "'i' not in my_string True\n"
     ]
    }
   ],
   "source": [
    "my_string = \"Backend Python\"\n",
    "print(\"'i' not in my_string\", 'i' not in my_string)"
   ]
  },
  {
   "cell_type": "code",
   "execution_count": 85,
   "id": "9f489d69",
   "metadata": {},
   "outputs": [
    {
     "name": "stdout",
     "output_type": "stream",
     "text": [
      "5 not in my_list True\n"
     ]
    }
   ],
   "source": [
    "my_list = [1, 154,321, 22, 11]\n",
    "print(\"5 not in my_list\", 5 not in my_list)"
   ]
  },
  {
   "cell_type": "code",
   "execution_count": 86,
   "id": "46a2d49d",
   "metadata": {},
   "outputs": [
    {
     "name": "stdout",
     "output_type": "stream",
     "text": [
      "5 not in my_list False\n"
     ]
    }
   ],
   "source": [
    "my_list = [1, 154,321, 22, 11, 5, 11, 22, 5, 1]\n",
    "print(\"5 not in my_list\", 5 not in my_list)"
   ]
  },
  {
   "cell_type": "code",
   "execution_count": 87,
   "id": "0f3ecce2",
   "metadata": {},
   "outputs": [
    {
     "name": "stdout",
     "output_type": "stream",
     "text": [
      "5 not in my_set False\n"
     ]
    }
   ],
   "source": [
    "my_set = {1, 154,321, 22, 11, 5, 11, 22, 5, 1}\n",
    "print(\"5 not in my_set\", 5 not in my_set)"
   ]
  },
  {
   "cell_type": "markdown",
   "id": "9b834299",
   "metadata": {},
   "source": [
    "### Operadores de identidad"
   ]
  },
  {
   "cell_type": "markdown",
   "id": "e57b771e",
   "metadata": {},
   "source": [
    "¿Que son los operadores de identidad?\n",
    "\n",
    "- Son usados para comparar la ubicacion en memoria de los objetos\n",
    "- se utilizan para validar si los valores comparten el mismo espacio en memoria o no\n",
    "- Regresa True/Verdadero si lo comparten y False si no lo comparten\n",
    "- Hay 2 operadores de identidad \n",
    "    - IS\n",
    "    - IS NOT"
   ]
  },
  {
   "cell_type": "code",
   "execution_count": null,
   "id": "89d20fca",
   "metadata": {},
   "outputs": [],
   "source": [
    "# IS"
   ]
  },
  {
   "cell_type": "code",
   "execution_count": 89,
   "id": "1f2c8948",
   "metadata": {},
   "outputs": [
    {
     "name": "stdout",
     "output_type": "stream",
     "text": [
      "num_1 is num_2 False\n"
     ]
    }
   ],
   "source": [
    "num_1 = 11\n",
    "num_2 = 55\n",
    "\n",
    "print(\"num_1 is num_2\",num_1 is num_2)"
   ]
  },
  {
   "cell_type": "code",
   "execution_count": 90,
   "id": "ac6be1fc",
   "metadata": {},
   "outputs": [
    {
     "name": "stdout",
     "output_type": "stream",
     "text": [
      "num_1 is num_2 True\n"
     ]
    }
   ],
   "source": [
    "num_1 = 77\n",
    "num_2 = 77\n",
    "\n",
    "print(\"num_1 is num_2\",num_1 is num_2)"
   ]
  },
  {
   "cell_type": "code",
   "execution_count": 91,
   "id": "e0865438",
   "metadata": {},
   "outputs": [],
   "source": [
    "# IS NOT"
   ]
  },
  {
   "cell_type": "code",
   "execution_count": 92,
   "id": "618de19c",
   "metadata": {},
   "outputs": [
    {
     "name": "stdout",
     "output_type": "stream",
     "text": [
      "num_1 is not num_2 True\n"
     ]
    }
   ],
   "source": [
    "num_1 = 11\n",
    "num_2 = 55\n",
    "\n",
    "print(\"num_1 is not num_2\",num_1 is not num_2)"
   ]
  },
  {
   "cell_type": "code",
   "execution_count": 93,
   "id": "1f529b38",
   "metadata": {},
   "outputs": [
    {
     "name": "stdout",
     "output_type": "stream",
     "text": [
      "num_1 is not num_2 False\n"
     ]
    }
   ],
   "source": [
    "num_1 = 77\n",
    "num_2 = 77\n",
    "\n",
    "print(\"num_1 is not num_2\",num_1 is not num_2)"
   ]
  },
  {
   "cell_type": "code",
   "execution_count": 94,
   "id": "242b6565",
   "metadata": {},
   "outputs": [],
   "source": [
    "## Conversion de Tipos"
   ]
  },
  {
   "cell_type": "markdown",
   "id": "81d2cc8c",
   "metadata": {},
   "source": [
    "¿Que es la conversion de tipos?\n",
    "- Es el proceso de conversion de un tipo de otro tipo de dato\n",
    "- Es un paso muy importante para combinar multiples funciones de datos en un formato especifico\n",
    "- Hay dos tipos:\n",
    "       - Conversion implicita: hecha de forma automatica por el         interprete de python\n",
    "       - Conversion Explicita     "
   ]
  },
  {
   "cell_type": "code",
   "execution_count": 95,
   "id": "e3247ac0",
   "metadata": {},
   "outputs": [],
   "source": [
    "# Conversion implicita"
   ]
  },
  {
   "cell_type": "code",
   "execution_count": 96,
   "id": "989e6f9d",
   "metadata": {},
   "outputs": [
    {
     "data": {
      "text/plain": [
       "16.0"
      ]
     },
     "execution_count": 96,
     "metadata": {},
     "output_type": "execute_result"
    }
   ],
   "source": [
    "14+2.0"
   ]
  },
  {
   "cell_type": "code",
   "execution_count": 97,
   "id": "effe0d39",
   "metadata": {},
   "outputs": [
    {
     "data": {
      "text/plain": [
       "19.0"
      ]
     },
     "execution_count": 97,
     "metadata": {},
     "output_type": "execute_result"
    }
   ],
   "source": [
    "14+2.0+3"
   ]
  },
  {
   "cell_type": "code",
   "execution_count": 98,
   "id": "7b3737e1",
   "metadata": {},
   "outputs": [],
   "source": [
    "# Conversion Explicita"
   ]
  },
  {
   "cell_type": "code",
   "execution_count": 99,
   "id": "f1900bd4",
   "metadata": {},
   "outputs": [
    {
     "data": {
      "text/plain": [
       "199"
      ]
     },
     "execution_count": 99,
     "metadata": {},
     "output_type": "execute_result"
    }
   ],
   "source": [
    "int(199.99)"
   ]
  },
  {
   "cell_type": "code",
   "execution_count": 100,
   "id": "6adedfbc",
   "metadata": {},
   "outputs": [
    {
     "data": {
      "text/plain": [
       "58.0"
      ]
     },
     "execution_count": 100,
     "metadata": {},
     "output_type": "execute_result"
    }
   ],
   "source": [
    "float(58)"
   ]
  },
  {
   "cell_type": "code",
   "execution_count": 101,
   "id": "b6bd4d4c",
   "metadata": {},
   "outputs": [
    {
     "data": {
      "text/plain": [
       "(4+0j)"
      ]
     },
     "execution_count": 101,
     "metadata": {},
     "output_type": "execute_result"
    }
   ],
   "source": [
    "complex(4)"
   ]
  },
  {
   "cell_type": "markdown",
   "id": "281fbaed",
   "metadata": {},
   "source": [
    "### Conversiones int"
   ]
  },
  {
   "cell_type": "code",
   "execution_count": 102,
   "id": "7816adf3",
   "metadata": {},
   "outputs": [
    {
     "data": {
      "text/plain": [
       "10"
      ]
     },
     "execution_count": 102,
     "metadata": {},
     "output_type": "execute_result"
    }
   ],
   "source": [
    "int(10.78) # float a int"
   ]
  },
  {
   "cell_type": "code",
   "execution_count": 103,
   "id": "f2b177bd",
   "metadata": {},
   "outputs": [
    {
     "data": {
      "text/plain": [
       "0"
      ]
     },
     "execution_count": 103,
     "metadata": {},
     "output_type": "execute_result"
    }
   ],
   "source": [
    "int(False) # bool a int"
   ]
  },
  {
   "cell_type": "code",
   "execution_count": 104,
   "id": "78a4fb2c",
   "metadata": {},
   "outputs": [
    {
     "data": {
      "text/plain": [
       "1"
      ]
     },
     "execution_count": 104,
     "metadata": {},
     "output_type": "execute_result"
    }
   ],
   "source": [
    "int(True) # bool a int"
   ]
  },
  {
   "cell_type": "code",
   "execution_count": 105,
   "id": "f813b9f3",
   "metadata": {},
   "outputs": [
    {
     "ename": "TypeError",
     "evalue": "int() argument must be a string, a bytes-like object or a real number, not 'complex'",
     "output_type": "error",
     "traceback": [
      "\u001b[1;31m---------------------------------------------------------------------------\u001b[0m",
      "\u001b[1;31mTypeError\u001b[0m                                 Traceback (most recent call last)",
      "Cell \u001b[1;32mIn[105], line 2\u001b[0m\n\u001b[0;32m      1\u001b[0m \u001b[38;5;66;03m# error\u001b[39;00m\n\u001b[1;32m----> 2\u001b[0m \u001b[38;5;28mint\u001b[39m(\u001b[38;5;241m5\u001b[39m\u001b[38;5;241m+\u001b[39m\u001b[38;5;241m3\u001b[39mj)\n",
      "\u001b[1;31mTypeError\u001b[0m: int() argument must be a string, a bytes-like object or a real number, not 'complex'"
     ]
    }
   ],
   "source": [
    "# error\n",
    "int(5+3j) # complex a int"
   ]
  },
  {
   "cell_type": "code",
   "execution_count": 106,
   "id": "ca5af081",
   "metadata": {},
   "outputs": [
    {
     "data": {
      "text/plain": [
       "120"
      ]
     },
     "execution_count": 106,
     "metadata": {},
     "output_type": "execute_result"
    }
   ],
   "source": [
    "int (\"120\") #string a int"
   ]
  },
  {
   "cell_type": "code",
   "execution_count": 107,
   "id": "40ba56a0",
   "metadata": {},
   "outputs": [
    {
     "ename": "ValueError",
     "evalue": "invalid literal for int() with base 10: '120.5'",
     "output_type": "error",
     "traceback": [
      "\u001b[1;31m---------------------------------------------------------------------------\u001b[0m",
      "\u001b[1;31mValueError\u001b[0m                                Traceback (most recent call last)",
      "Cell \u001b[1;32mIn[107], line 2\u001b[0m\n\u001b[0;32m      1\u001b[0m \u001b[38;5;66;03m# error\u001b[39;00m\n\u001b[1;32m----> 2\u001b[0m \u001b[38;5;28mint\u001b[39m(\u001b[38;5;124m\"\u001b[39m\u001b[38;5;124m120.5\u001b[39m\u001b[38;5;124m\"\u001b[39m)\n",
      "\u001b[1;31mValueError\u001b[0m: invalid literal for int() with base 10: '120.5'"
     ]
    }
   ],
   "source": [
    "# error\n",
    "int(\"120.5\") # string a int"
   ]
  },
  {
   "cell_type": "markdown",
   "id": "10eb12cb",
   "metadata": {},
   "source": [
    "### Conversiones float"
   ]
  },
  {
   "cell_type": "code",
   "execution_count": 108,
   "id": "e4c6eec0",
   "metadata": {},
   "outputs": [
    {
     "data": {
      "text/plain": [
       "23.0"
      ]
     },
     "execution_count": 108,
     "metadata": {},
     "output_type": "execute_result"
    }
   ],
   "source": [
    "float(23) #int a float"
   ]
  },
  {
   "cell_type": "code",
   "execution_count": 109,
   "id": "6a489cfb",
   "metadata": {},
   "outputs": [
    {
     "ename": "TypeError",
     "evalue": "float() argument must be a string or a real number, not 'complex'",
     "output_type": "error",
     "traceback": [
      "\u001b[1;31m---------------------------------------------------------------------------\u001b[0m",
      "\u001b[1;31mTypeError\u001b[0m                                 Traceback (most recent call last)",
      "Cell \u001b[1;32mIn[109], line 1\u001b[0m\n\u001b[1;32m----> 1\u001b[0m \u001b[38;5;28mfloat\u001b[39m(\u001b[38;5;241m23\u001b[39m\u001b[38;5;241m+\u001b[39m\u001b[38;5;241m3\u001b[39mj)\n",
      "\u001b[1;31mTypeError\u001b[0m: float() argument must be a string or a real number, not 'complex'"
     ]
    }
   ],
   "source": [
    "#error\n",
    "float(23+3j) #complex a float"
   ]
  },
  {
   "cell_type": "code",
   "execution_count": 110,
   "id": "ab78e21e",
   "metadata": {},
   "outputs": [
    {
     "data": {
      "text/plain": [
       "1.0"
      ]
     },
     "execution_count": 110,
     "metadata": {},
     "output_type": "execute_result"
    }
   ],
   "source": [
    "float (True) # bool a float"
   ]
  },
  {
   "cell_type": "code",
   "execution_count": 111,
   "id": "775eee54",
   "metadata": {},
   "outputs": [
    {
     "data": {
      "text/plain": [
       "843.29"
      ]
     },
     "execution_count": 111,
     "metadata": {},
     "output_type": "execute_result"
    }
   ],
   "source": [
    "float(\"843.29\") # string a float"
   ]
  },
  {
   "cell_type": "code",
   "execution_count": 112,
   "id": "23eb4b26",
   "metadata": {},
   "outputs": [
    {
     "data": {
      "text/plain": [
       "843.0"
      ]
     },
     "execution_count": 112,
     "metadata": {},
     "output_type": "execute_result"
    }
   ],
   "source": [
    "float(\"843\") #string a float"
   ]
  },
  {
   "cell_type": "markdown",
   "id": "b21e609f",
   "metadata": {},
   "source": [
    "### conversiones complex"
   ]
  },
  {
   "cell_type": "code",
   "execution_count": 113,
   "id": "49a412d6",
   "metadata": {},
   "outputs": [
    {
     "data": {
      "text/plain": [
       "(42+0j)"
      ]
     },
     "execution_count": 113,
     "metadata": {},
     "output_type": "execute_result"
    }
   ],
   "source": [
    "complex(42) # int a comlplex"
   ]
  },
  {
   "cell_type": "code",
   "execution_count": 114,
   "id": "0448ed1f",
   "metadata": {},
   "outputs": [
    {
     "data": {
      "text/plain": [
       "(92.8+0j)"
      ]
     },
     "execution_count": 114,
     "metadata": {},
     "output_type": "execute_result"
    }
   ],
   "source": [
    "complex (92.8) # float a complex"
   ]
  },
  {
   "cell_type": "code",
   "execution_count": 115,
   "id": "0709ca6c",
   "metadata": {},
   "outputs": [
    {
     "data": {
      "text/plain": [
       "(1+0j)"
      ]
     },
     "execution_count": 115,
     "metadata": {},
     "output_type": "execute_result"
    }
   ],
   "source": [
    "complex(True) # bool a complex"
   ]
  },
  {
   "cell_type": "code",
   "execution_count": 116,
   "id": "e7da6026",
   "metadata": {},
   "outputs": [
    {
     "data": {
      "text/plain": [
       "0j"
      ]
     },
     "execution_count": 116,
     "metadata": {},
     "output_type": "execute_result"
    }
   ],
   "source": [
    "complex(False) # bool a complex"
   ]
  },
  {
   "cell_type": "code",
   "execution_count": 117,
   "id": "384394c2",
   "metadata": {},
   "outputs": [
    {
     "data": {
      "text/plain": [
       "(24+0j)"
      ]
     },
     "execution_count": 117,
     "metadata": {},
     "output_type": "execute_result"
    }
   ],
   "source": [
    "complex(\"24\") # string a complex"
   ]
  },
  {
   "cell_type": "code",
   "execution_count": 118,
   "id": "b3f069db",
   "metadata": {},
   "outputs": [
    {
     "ename": "ValueError",
     "evalue": "complex() arg is a malformed string",
     "output_type": "error",
     "traceback": [
      "\u001b[1;31m---------------------------------------------------------------------------\u001b[0m",
      "\u001b[1;31mValueError\u001b[0m                                Traceback (most recent call last)",
      "Cell \u001b[1;32mIn[118], line 2\u001b[0m\n\u001b[0;32m      1\u001b[0m \u001b[38;5;66;03m#error\u001b[39;00m\n\u001b[1;32m----> 2\u001b[0m \u001b[38;5;28mcomplex\u001b[39m(\u001b[38;5;124m\"\u001b[39m\u001b[38;5;124mBackend\u001b[39m\u001b[38;5;124m\"\u001b[39m)\n",
      "\u001b[1;31mValueError\u001b[0m: complex() arg is a malformed string"
     ]
    }
   ],
   "source": [
    "#error\n",
    "complex(\"Backend\") # string a complex"
   ]
  },
  {
   "cell_type": "code",
   "execution_count": 120,
   "id": "40a19770",
   "metadata": {},
   "outputs": [
    {
     "ename": "ValueError",
     "evalue": "complex() arg is a malformed string",
     "output_type": "error",
     "traceback": [
      "\u001b[1;31m---------------------------------------------------------------------------\u001b[0m",
      "\u001b[1;31mValueError\u001b[0m                                Traceback (most recent call last)",
      "Cell \u001b[1;32mIn[120], line 2\u001b[0m\n\u001b[0;32m      1\u001b[0m \u001b[38;5;66;03m#error\u001b[39;00m\n\u001b[1;32m----> 2\u001b[0m \u001b[38;5;28mcomplex\u001b[39m(\u001b[38;5;124m\"\u001b[39m\u001b[38;5;124m10c\u001b[39m\u001b[38;5;124m\"\u001b[39m)\n",
      "\u001b[1;31mValueError\u001b[0m: complex() arg is a malformed string"
     ]
    }
   ],
   "source": [
    "#error\n",
    "complex(\"10c\") # string a complex"
   ]
  },
  {
   "cell_type": "code",
   "execution_count": 121,
   "id": "b041fa15",
   "metadata": {},
   "outputs": [
    {
     "data": {
      "text/plain": [
       "10j"
      ]
     },
     "execution_count": 121,
     "metadata": {},
     "output_type": "execute_result"
    }
   ],
   "source": [
    "complex(\"10j\") # string a complex"
   ]
  },
  {
   "cell_type": "markdown",
   "id": "ff75952b",
   "metadata": {},
   "source": [
    "### Conversiones Bool"
   ]
  },
  {
   "cell_type": "code",
   "execution_count": 122,
   "id": "4c268860",
   "metadata": {},
   "outputs": [
    {
     "data": {
      "text/plain": [
       "False"
      ]
     },
     "execution_count": 122,
     "metadata": {},
     "output_type": "execute_result"
    }
   ],
   "source": [
    "bool(0) # int a bool"
   ]
  },
  {
   "cell_type": "code",
   "execution_count": 123,
   "id": "c59729fd",
   "metadata": {},
   "outputs": [
    {
     "data": {
      "text/plain": [
       "True"
      ]
     },
     "execution_count": 123,
     "metadata": {},
     "output_type": "execute_result"
    }
   ],
   "source": [
    "bool(7) # int a bool"
   ]
  },
  {
   "cell_type": "code",
   "execution_count": 124,
   "id": "c8bdbb31",
   "metadata": {},
   "outputs": [
    {
     "data": {
      "text/plain": [
       "True"
      ]
     },
     "execution_count": 124,
     "metadata": {},
     "output_type": "execute_result"
    }
   ],
   "source": [
    "bool(1.8) # float a bool"
   ]
  },
  {
   "cell_type": "code",
   "execution_count": 125,
   "id": "daa4f2e8",
   "metadata": {},
   "outputs": [
    {
     "data": {
      "text/plain": [
       "False"
      ]
     },
     "execution_count": 125,
     "metadata": {},
     "output_type": "execute_result"
    }
   ],
   "source": [
    "bool(0.0) # float a bool"
   ]
  },
  {
   "cell_type": "code",
   "execution_count": 126,
   "id": "754932b7",
   "metadata": {},
   "outputs": [
    {
     "data": {
      "text/plain": [
       "True"
      ]
     },
     "execution_count": 126,
     "metadata": {},
     "output_type": "execute_result"
    }
   ],
   "source": [
    "bool(0+3j) # complex a bool"
   ]
  },
  {
   "cell_type": "code",
   "execution_count": 127,
   "id": "e6e6697f",
   "metadata": {},
   "outputs": [
    {
     "data": {
      "text/plain": [
       "False"
      ]
     },
     "execution_count": 127,
     "metadata": {},
     "output_type": "execute_result"
    }
   ],
   "source": [
    "bool(0+0j) # complex a bool"
   ]
  },
  {
   "cell_type": "code",
   "execution_count": 128,
   "id": "562ebaac",
   "metadata": {},
   "outputs": [
    {
     "data": {
      "text/plain": [
       "True"
      ]
     },
     "execution_count": 128,
     "metadata": {},
     "output_type": "execute_result"
    }
   ],
   "source": [
    "bool(2+0j) # complext a bool"
   ]
  },
  {
   "cell_type": "code",
   "execution_count": 129,
   "id": "9f0841a4",
   "metadata": {},
   "outputs": [
    {
     "data": {
      "text/plain": [
       "True"
      ]
     },
     "execution_count": 129,
     "metadata": {},
     "output_type": "execute_result"
    }
   ],
   "source": [
    "bool(\"python\") # string a bool"
   ]
  },
  {
   "cell_type": "code",
   "execution_count": 130,
   "id": "5865c751",
   "metadata": {},
   "outputs": [
    {
     "data": {
      "text/plain": [
       "True"
      ]
     },
     "execution_count": 130,
     "metadata": {},
     "output_type": "execute_result"
    }
   ],
   "source": [
    "bool(\" \") # string a bool"
   ]
  },
  {
   "cell_type": "code",
   "execution_count": 131,
   "id": "2cc6cacd",
   "metadata": {},
   "outputs": [
    {
     "data": {
      "text/plain": [
       "False"
      ]
     },
     "execution_count": 131,
     "metadata": {},
     "output_type": "execute_result"
    }
   ],
   "source": [
    "bool(\"\") # string a bool"
   ]
  },
  {
   "cell_type": "code",
   "execution_count": 132,
   "id": "9f8bcdf0",
   "metadata": {},
   "outputs": [
    {
     "data": {
      "text/plain": [
       "True"
      ]
     },
     "execution_count": 132,
     "metadata": {},
     "output_type": "execute_result"
    }
   ],
   "source": [
    "bool(\"0\") # string a bool"
   ]
  },
  {
   "cell_type": "markdown",
   "id": "7fa1f6b3",
   "metadata": {},
   "source": [
    "### conversiones str"
   ]
  },
  {
   "cell_type": "code",
   "execution_count": 134,
   "id": "f1bafb3b",
   "metadata": {},
   "outputs": [
    {
     "data": {
      "text/plain": [
       "'25'"
      ]
     },
     "execution_count": 134,
     "metadata": {},
     "output_type": "execute_result"
    }
   ],
   "source": [
    "str(25) # int a str"
   ]
  },
  {
   "cell_type": "code",
   "execution_count": 135,
   "id": "600c5024",
   "metadata": {},
   "outputs": [
    {
     "data": {
      "text/plain": [
       "'36.9'"
      ]
     },
     "execution_count": 135,
     "metadata": {},
     "output_type": "execute_result"
    }
   ],
   "source": [
    "str(36.9) # float a str"
   ]
  },
  {
   "cell_type": "code",
   "execution_count": 136,
   "id": "827027d3",
   "metadata": {},
   "outputs": [
    {
     "data": {
      "text/plain": [
       "'(6+8j)'"
      ]
     },
     "execution_count": 136,
     "metadata": {},
     "output_type": "execute_result"
    }
   ],
   "source": [
    "str(6+8j) # complex a str"
   ]
  },
  {
   "cell_type": "code",
   "execution_count": 137,
   "id": "8de4f221",
   "metadata": {},
   "outputs": [
    {
     "data": {
      "text/plain": [
       "'True'"
      ]
     },
     "execution_count": 137,
     "metadata": {},
     "output_type": "execute_result"
    }
   ],
   "source": [
    "str(True) # bool a str"
   ]
  },
  {
   "cell_type": "markdown",
   "id": "c1831925",
   "metadata": {},
   "source": [
    "### Funciones basicas "
   ]
  },
  {
   "cell_type": "code",
   "execution_count": 138,
   "id": "9ff5b91c",
   "metadata": {},
   "outputs": [
    {
     "name": "stdout",
     "output_type": "stream",
     "text": [
      "num_1: 64.99\n",
      "num_2: 64.5\n",
      "num_3: 64.51\n",
      "num_4: 64.0000000000001\n"
     ]
    }
   ],
   "source": [
    "num_1 = 64.99\n",
    "num_2 = 64.5\n",
    "num_3 = 64.51\n",
    "num_4 = 64.0000000000001\n",
    "\n",
    "print(\"num_1:\", num_1)\n",
    "print(\"num_2:\", num_2)\n",
    "print(\"num_3:\", num_3)\n",
    "print(\"num_4:\", num_4)"
   ]
  },
  {
   "cell_type": "code",
   "execution_count": 139,
   "id": "92ac2a05",
   "metadata": {},
   "outputs": [
    {
     "name": "stdout",
     "output_type": "stream",
     "text": [
      "trunc(num_1): 64\n",
      "trunc(num_2): 64\n",
      "trunc(num_3): 64\n",
      "trunc(num_4): 64\n"
     ]
    }
   ],
   "source": [
    "from math import trunc #la funcion trunc se queda con la parte entera\n",
    "num_1 = 64.99\n",
    "num_2 = 64.5\n",
    "num_3 = 64.51\n",
    "num_4 = 64.0000000000001\n",
    "\n",
    "print(\"trunc(num_1):\", trunc(num_1))\n",
    "print(\"trunc(num_2):\", trunc(num_2))\n",
    "print(\"trunc(num_3):\", trunc(num_3))\n",
    "print(\"trunc(num_4):\", trunc(num_4))"
   ]
  },
  {
   "cell_type": "markdown",
   "id": "ddccfb8a",
   "metadata": {},
   "source": [
    "### round(), ceil() y floor()"
   ]
  },
  {
   "cell_type": "code",
   "execution_count": 140,
   "id": "81177769",
   "metadata": {},
   "outputs": [
    {
     "name": "stdout",
     "output_type": "stream",
     "text": [
      "round(num_1): 65\n",
      "round(num_2): 64\n",
      "round(num_3): 65\n",
      "round(num_4): 64\n"
     ]
    }
   ],
   "source": [
    "#round va a redondear\n",
    "\n",
    "num_1 = 64.99\n",
    "num_2 = 64.5\n",
    "num_3 = 64.51\n",
    "num_4 = 64.0000000000001\n",
    "\n",
    "print(\"round(num_1):\", round(num_1))\n",
    "print(\"round(num_2):\", round(num_2))\n",
    "print(\"round(num_3):\", round(num_3))\n",
    "print(\"round(num_4):\", round(num_4))"
   ]
  },
  {
   "cell_type": "code",
   "execution_count": 141,
   "id": "11ba1937",
   "metadata": {},
   "outputs": [
    {
     "name": "stdout",
     "output_type": "stream",
     "text": [
      "ceil(num_1): 65\n",
      "ceil(num_2): 65\n",
      "ceil(num_3): 65\n",
      "ceil(num_4): 65\n"
     ]
    }
   ],
   "source": [
    "# ceil redondeo hacia arriba\n",
    "from math import ceil\n",
    "\n",
    "num_1 = 64.99\n",
    "num_2 = 64.5\n",
    "num_3 = 64.51\n",
    "num_4 = 64.0000000000001\n",
    "\n",
    "print(\"ceil(num_1):\", ceil(num_1))\n",
    "print(\"ceil(num_2):\", ceil(num_2))\n",
    "print(\"ceil(num_3):\", ceil(num_3))\n",
    "print(\"ceil(num_4):\", ceil(num_4))"
   ]
  },
  {
   "cell_type": "code",
   "execution_count": 142,
   "id": "e683bf3e",
   "metadata": {},
   "outputs": [
    {
     "name": "stdout",
     "output_type": "stream",
     "text": [
      "floor(num_1): 64\n",
      "floor(num_2): 64\n",
      "floor(num_3): 64\n",
      "floor(num_4): 64\n"
     ]
    }
   ],
   "source": [
    "#redondeo hacia abajo\n",
    "from math import floor\n",
    "\n",
    "num_1 = 64.99\n",
    "num_2 = 64.5\n",
    "num_3 = 64.51\n",
    "num_4 = 64.0000000000001\n",
    "\n",
    "print(\"floor(num_1):\", floor(num_1))\n",
    "print(\"floor(num_2):\", floor(num_2))\n",
    "print(\"floor(num_3):\", floor(num_3))\n",
    "print(\"floor(num_4):\", floor(num_4))"
   ]
  },
  {
   "cell_type": "markdown",
   "id": "0e3122ea",
   "metadata": {},
   "source": [
    "### Funcion %"
   ]
  },
  {
   "cell_type": "code",
   "execution_count": 145,
   "id": "6dbaab89",
   "metadata": {},
   "outputs": [
    {
     "name": "stdout",
     "output_type": "stream",
     "text": [
      "'%.2f' % num_1: 64.99\n",
      "'%.3f' % num_2: 64.500\n",
      "'%.4f' % num_3: 64.5100\n",
      "'%.5f' % num_4: 64.00000\n"
     ]
    }
   ],
   "source": [
    "\n",
    "num_1 = 64.99\n",
    "num_2 = 64.5\n",
    "num_3 = 64.51\n",
    "num_4 = 64.0000000000001\n",
    "\n",
    "print(\"'%.2f' % num_1:\", '%.2f' % num_1)\n",
    "print(\"'%.3f' % num_2:\", '%.3f' % num_2)\n",
    "print(\"'%.4f' % num_3:\", '%.4f' % num_3)\n",
    "print(\"'%.5f' % num_4:\", '%.5f' % num_4)"
   ]
  },
  {
   "cell_type": "markdown",
   "id": "46140776",
   "metadata": {},
   "source": [
    "### format()"
   ]
  },
  {
   "cell_type": "code",
   "execution_count": 148,
   "id": "2f211a68",
   "metadata": {},
   "outputs": [
    {
     "name": "stdout",
     "output_type": "stream",
     "text": [
      "'{:.1f}' .format(num_1): 65.0\n",
      "'{:.3f}' .format(num_2): 64.500\n",
      "'{:.4f}' .format(num_3): 64.5100\n",
      "'{:.5f}' .format(num_4): 64.00000\n"
     ]
    }
   ],
   "source": [
    "num_1 = 64.99\n",
    "num_2 = 64.5\n",
    "num_3 = 64.51\n",
    "num_4 = 64.0000000000001\n",
    "\n",
    "print(\"'{:.1f}' .format(num_1):\", '{:.1f}' .format(num_1))\n",
    "print(\"'{:.3f}' .format(num_2):\", '{:.3f}' .format(num_2))\n",
    "print(\"'{:.4f}' .format(num_3):\", '{:.4f}' .format(num_3))\n",
    "print(\"'{:.5f}' .format(num_4):\", '{:.5f}' .format(num_4))"
   ]
  },
  {
   "cell_type": "code",
   "execution_count": null,
   "id": "77b61283",
   "metadata": {},
   "outputs": [],
   "source": []
  }
 ],
 "metadata": {
  "kernelspec": {
   "display_name": "Python 3 (ipykernel)",
   "language": "python",
   "name": "python3"
  },
  "language_info": {
   "codemirror_mode": {
    "name": "ipython",
    "version": 3
   },
   "file_extension": ".py",
   "mimetype": "text/x-python",
   "name": "python",
   "nbconvert_exporter": "python",
   "pygments_lexer": "ipython3",
   "version": "3.11.7"
  }
 },
 "nbformat": 4,
 "nbformat_minor": 5
}
