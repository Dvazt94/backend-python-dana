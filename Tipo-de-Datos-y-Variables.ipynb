{
 "cells": [
  {
   "cell_type": "markdown",
   "id": "b65f5032",
   "metadata": {},
   "source": [
    "# Panorama\n",
    "\n",
    "int - Integer/Enteros\n",
    "\n",
    "float - Float/Numeros con decimales\n",
    "\n",
    "Complex - Complex/ Complejos (Numeros con una parte real y una imaginaria)\n",
    "\n",
    "bool - Boolean/ (True/False) Valores logicos (verdadero / Falso)\n",
    "\n",
    "str - Strings / Cadenas/ Textos"
   ]
  },
  {
   "cell_type": "markdown",
   "id": "84b2a616",
   "metadata": {},
   "source": [
    "# int Integer/ Enteros"
   ]
  },
  {
   "cell_type": "code",
   "execution_count": 1,
   "id": "569456de",
   "metadata": {},
   "outputs": [
    {
     "name": "stdout",
     "output_type": "stream",
     "text": [
      "El valor de my_integer es: 11\n",
      "El tipo de dato de my_integer es: <class 'int'>\n"
     ]
    }
   ],
   "source": [
    "my_integer = 11\n",
    "print (\"El valor de my_integer es:\",my_integer)\n",
    "print (\"El tipo de dato de my_integer es:\", type(my_integer))\n"
   ]
  },
  {
   "cell_type": "code",
   "execution_count": 2,
   "id": "bf8f304b",
   "metadata": {},
   "outputs": [
    {
     "name": "stdout",
     "output_type": "stream",
     "text": [
      "El valor de my_integer es: 2022\n",
      "El tipo de dato de my_integer es: <class 'int'>\n"
     ]
    }
   ],
   "source": [
    "my_integer = 2022\n",
    "print (\"El valor de my_integer es:\",my_integer)\n",
    "print (\"El tipo de dato de my_integer es:\", type(my_integer))\n"
   ]
  },
  {
   "cell_type": "code",
   "execution_count": 3,
   "id": "0b4578b6",
   "metadata": {},
   "outputs": [
    {
     "name": "stdout",
     "output_type": "stream",
     "text": [
      "El valor de my_integer es: 57831\n",
      "El tipo de dato de my_integer es: <class 'int'>\n"
     ]
    }
   ],
   "source": [
    "my_integer = 57831\n",
    "print (\"El valor de my_integer es:\",my_integer)\n",
    "print (\"El tipo de dato de my_integer es:\", type(my_integer))\n"
   ]
  },
  {
   "cell_type": "markdown",
   "id": "6e9d9f21",
   "metadata": {},
   "source": [
    "# float - Float/Numeros con decimales"
   ]
  },
  {
   "cell_type": "code",
   "execution_count": 4,
   "id": "b3fb46bf",
   "metadata": {},
   "outputs": [
    {
     "name": "stdout",
     "output_type": "stream",
     "text": [
      "El valor de my_integer es: 11.1\n",
      "El tipo de dato de my_integer es: <class 'float'>\n"
     ]
    }
   ],
   "source": [
    "my_float = 11.1\n",
    "print (\"El valor de my_integer es:\",my_float)\n",
    "print (\"El tipo de dato de my_integer es:\", type(my_float))\n"
   ]
  },
  {
   "cell_type": "code",
   "execution_count": 5,
   "id": "50c934c8",
   "metadata": {},
   "outputs": [
    {
     "name": "stdout",
     "output_type": "stream",
     "text": [
      "El valor de my_integer es: 11.0\n",
      "El tipo de dato de my_integer es: <class 'float'>\n"
     ]
    }
   ],
   "source": [
    "my_float = 11.0\n",
    "print (\"El valor de my_integer es:\",my_float)\n",
    "print (\"El tipo de dato de my_integer es:\", type(my_float))\n"
   ]
  },
  {
   "cell_type": "code",
   "execution_count": 6,
   "id": "2bcec80f",
   "metadata": {},
   "outputs": [
    {
     "name": "stdout",
     "output_type": "stream",
     "text": [
      "El valor de my_integer es: 2000.0\n",
      "El tipo de dato de my_integer es: <class 'float'>\n"
     ]
    }
   ],
   "source": [
    "# notacion cientifica\n",
    "my_float = 2e3 # 2.0*10**3 (elevado)\n",
    "print (\"El valor de my_integer es:\",my_float)\n",
    "print (\"El tipo de dato de my_integer es:\", type(my_float))\n"
   ]
  },
  {
   "cell_type": "code",
   "execution_count": 7,
   "id": "af9462c1",
   "metadata": {},
   "outputs": [
    {
     "data": {
      "text/plain": [
       "1.1"
      ]
     },
     "execution_count": 7,
     "metadata": {},
     "output_type": "execute_result"
    }
   ],
   "source": [
    "1.1"
   ]
  },
  {
   "cell_type": "code",
   "execution_count": 8,
   "id": "391b9f4f",
   "metadata": {},
   "outputs": [
    {
     "data": {
      "text/plain": [
       "1.1"
      ]
     },
     "execution_count": 8,
     "metadata": {},
     "output_type": "execute_result"
    }
   ],
   "source": [
    "1.1e0 # 1.1 * 10**0"
   ]
  },
  {
   "cell_type": "code",
   "execution_count": 9,
   "id": "d17db0ff",
   "metadata": {},
   "outputs": [
    {
     "data": {
      "text/plain": [
       "11.0"
      ]
     },
     "execution_count": 9,
     "metadata": {},
     "output_type": "execute_result"
    }
   ],
   "source": [
    "1.1e1 # 1.1 -10**1"
   ]
  },
  {
   "cell_type": "code",
   "execution_count": 10,
   "id": "ed38731d",
   "metadata": {},
   "outputs": [
    {
     "data": {
      "text/plain": [
       "110.0"
      ]
     },
     "execution_count": 10,
     "metadata": {},
     "output_type": "execute_result"
    }
   ],
   "source": [
    "1.1e2 # 1.1 -10**2"
   ]
  },
  {
   "cell_type": "code",
   "execution_count": 11,
   "id": "5e5c1ef6",
   "metadata": {},
   "outputs": [
    {
     "data": {
      "text/plain": [
       "1100.0"
      ]
     },
     "execution_count": 11,
     "metadata": {},
     "output_type": "execute_result"
    }
   ],
   "source": [
    "1.1e3 # 1.1 -10**3"
   ]
  },
  {
   "cell_type": "code",
   "execution_count": 13,
   "id": "d8205281",
   "metadata": {},
   "outputs": [
    {
     "data": {
      "text/plain": [
       "0.08"
      ]
     },
     "execution_count": 13,
     "metadata": {},
     "output_type": "execute_result"
    }
   ],
   "source": [
    "8e-2 # 8 -10**-2"
   ]
  },
  {
   "cell_type": "markdown",
   "id": "02552a4d",
   "metadata": {},
   "source": [
    "# Complex - Complex/ Complejos (Numeros con una parte real y una imaginaria)\n",
    "\n",
    "complex = x + yj\n",
    "\n",
    "x = parte ral\n",
    "\n",
    "yj = parte imaginaria"
   ]
  },
  {
   "cell_type": "code",
   "execution_count": 15,
   "id": "83c5ef0d",
   "metadata": {},
   "outputs": [
    {
     "name": "stdout",
     "output_type": "stream",
     "text": [
      "El valor de my_integer es: (3+9j)\n",
      "El tipo de dato de my_integer es: <class 'complex'>\n"
     ]
    }
   ],
   "source": [
    "my_complex = 3 + 9j\n",
    "print (\"El valor de my_complex es:\",my_complex)\n",
    "print (\"El tipo de dato de my_complex es:\", type(my_complex))\n"
   ]
  },
  {
   "cell_type": "code",
   "execution_count": 16,
   "id": "65ced085",
   "metadata": {},
   "outputs": [
    {
     "name": "stdout",
     "output_type": "stream",
     "text": [
      "El valor de my_integer es: (2+5j)\n",
      "El tipo de dato de my_integer es: <class 'complex'>\n"
     ]
    }
   ],
   "source": [
    "my_complex = 2 + 5j\n",
    "print (\"El valor de my_complex es:\",my_complex)\n",
    "print (\"El tipo de dato de my_complex es:\", type(my_complex))\n"
   ]
  },
  {
   "cell_type": "markdown",
   "id": "c405039f",
   "metadata": {},
   "source": [
    "# bool - Boolean/ (True/False) Valores logicos (verdadero / Falso)\n"
   ]
  },
  {
   "cell_type": "code",
   "execution_count": 17,
   "id": "f1259ed7",
   "metadata": {},
   "outputs": [
    {
     "name": "stdout",
     "output_type": "stream",
     "text": [
      "El valor de my_boolean es: False\n",
      "El tipo de dato de my_boolean es: <class 'bool'>\n"
     ]
    }
   ],
   "source": [
    "my_boolean = False\n",
    "print (\"El valor de my_boolean es:\",my_boolean)\n",
    "print (\"El tipo de dato de my_boolean es:\", type(my_boolean))\n"
   ]
  },
  {
   "cell_type": "code",
   "execution_count": 18,
   "id": "190dde11",
   "metadata": {},
   "outputs": [
    {
     "name": "stdout",
     "output_type": "stream",
     "text": [
      "El valor de my_boolean es: True\n",
      "El tipo de dato de my_boolean es: <class 'bool'>\n"
     ]
    }
   ],
   "source": [
    "my_boolean = True\n",
    "print (\"El valor de my_boolean es:\",my_boolean)\n",
    "print (\"El tipo de dato de my_boolean es:\", type(my_boolean))\n"
   ]
  },
  {
   "cell_type": "code",
   "execution_count": 19,
   "id": "692cc058",
   "metadata": {},
   "outputs": [],
   "source": [
    "# True = 1\n",
    "# False = 0"
   ]
  },
  {
   "cell_type": "code",
   "execution_count": 21,
   "id": "3ab137f9",
   "metadata": {},
   "outputs": [
    {
     "name": "stdout",
     "output_type": "stream",
     "text": [
      "3\n"
     ]
    }
   ],
   "source": [
    "# 3 \n",
    "print (True+True+True)\n"
   ]
  },
  {
   "cell_type": "code",
   "execution_count": 22,
   "id": "f595674a",
   "metadata": {},
   "outputs": [
    {
     "name": "stdout",
     "output_type": "stream",
     "text": [
      "0\n"
     ]
    }
   ],
   "source": [
    "#0\n",
    "print (False+False+False)"
   ]
  },
  {
   "cell_type": "code",
   "execution_count": 24,
   "id": "5b995e0c",
   "metadata": {},
   "outputs": [
    {
     "name": "stdout",
     "output_type": "stream",
     "text": [
      "2\n"
     ]
    }
   ],
   "source": [
    "#2\n",
    "print (True+False+True)"
   ]
  },
  {
   "cell_type": "code",
   "execution_count": 25,
   "id": "609bb2d8",
   "metadata": {},
   "outputs": [
    {
     "name": "stdout",
     "output_type": "stream",
     "text": [
      "1\n"
     ]
    }
   ],
   "source": [
    "#1\n",
    "print (True-True+True)"
   ]
  },
  {
   "cell_type": "code",
   "execution_count": 27,
   "id": "9c56d705",
   "metadata": {},
   "outputs": [
    {
     "name": "stdout",
     "output_type": "stream",
     "text": [
      "-2\n"
     ]
    }
   ],
   "source": [
    "# -2\n",
    "print (False-True-True)"
   ]
  },
  {
   "cell_type": "markdown",
   "id": "deb31484",
   "metadata": {},
   "source": [
    "# str - Strings / Cadenas/ Textos\n"
   ]
  },
  {
   "cell_type": "code",
   "execution_count": 28,
   "id": "6642d7a1",
   "metadata": {},
   "outputs": [
    {
     "name": "stdout",
     "output_type": "stream",
     "text": [
      "El valor demy_string  es: Backend python\n",
      "El tipo de dato de my_string es: <class 'str'>\n"
     ]
    }
   ],
   "source": [
    "my_string = \"Backend python\"\n",
    "print (\"El valor demy_string  es:\",my_string)\n",
    "print (\"El tipo de dato de my_string es:\", type(my_string))\n",
    "\n"
   ]
  },
  {
   "cell_type": "code",
   "execution_count": 29,
   "id": "ec26b686",
   "metadata": {},
   "outputs": [
    {
     "name": "stdout",
     "output_type": "stream",
     "text": [
      "El valor demy_string  es: Aprendiendo a usar string/ cadenas/ textos\n",
      "El tipo de dato de my_string es: <class 'str'>\n"
     ]
    }
   ],
   "source": [
    "my_string = \"Aprendiendo a usar string/ cadenas/ textos\"\n",
    "print (\"El valor demy_string  es:\",my_string)\n",
    "print (\"El tipo de dato de my_string es:\", type(my_string))\n"
   ]
  },
  {
   "cell_type": "markdown",
   "id": "471efd84",
   "metadata": {},
   "source": [
    "my_string = \"\"\"\n",
    "Es una cadena con multiples lineas\\n\n",
    "como puedes ver es genial para texo mas largos\\n\n",
    "¿Puedes imaginar cuantas cosas podrias hacer manejando texto de internet?\n",
    "\"\"\"\n",
    "print (\"El valor de my_string  es:\",my_string)\n",
    "print (\"El tipo de dato de my_string es:\", type(my_string))\n"
   ]
  },
  {
   "cell_type": "markdown",
   "id": "7a70bc92",
   "metadata": {},
   "source": [
    "# Variables\n",
    "\n",
    "¿Ques es una variable?\n",
    "- Son un espacio temporal para guardar valor con un nombre especifico\n",
    "- No hay necesidad de declarar el tippo de datos explicitamente \n",
    "- Python es un lenguaje tipado dinamicament, lo que quiere decir que el tipo de dato se define mientras corre el programa\n",
    "- Las variables en python funcionan diferente que en otros lenguajes de programacion\n",
    "- no necesitamos crear variables. solo asignamos un nombre a un valor usando el operador de asignacion\n",
    "\n",
    "# Tipos de variables:\n",
    "- Variables Globales: aquellas que s eutilizaran para todo el programa\n",
    "- Variables locales: aquellas que se van a utilizar solo en un bloque especifico"
   ]
  },
  {
   "cell_type": "markdown",
   "id": "091bfe20",
   "metadata": {},
   "source": [
    "# Variables Globales \n",
    "- Declaramos variables Globales afuera de funciones \n",
    "- El valor de la variable puede ser constante para todo el programa\n",
    "- Cualquier funcion podra acceder a estas variables\n",
    "- Pode,os decir que as variables Globale tienen un alcance global\n",
    "- Normalmente son mas usadas para constantes\n",
    "- Las variables globales mantenien sus valores a traves de la ejecuion de tu programa\n",
    "- Una variable global puede ser accesada por cualquier funcion"
   ]
  },
  {
   "cell_type": "code",
   "execution_count": 45,
   "id": "ecb85c48",
   "metadata": {},
   "outputs": [],
   "source": [
    "# Variable Global\n",
    "my_global_variable=50\n",
    "\n",
    "def my_function_1():\n",
    "    pass\n",
    "\n",
    "def my_function_2():\n",
    "    pass"
   ]
  },
  {
   "cell_type": "code",
   "execution_count": 46,
   "id": "88278cdf",
   "metadata": {},
   "outputs": [],
   "source": [
    "# variables locales \n",
    "def my_function_1():\n",
    "    my_local_variable=5\n",
    "\n",
    "def my_function_2():\n",
    "    my_local_variable=35"
   ]
  },
  {
   "cell_type": "code",
   "execution_count": 49,
   "id": "ff666fc0",
   "metadata": {},
   "outputs": [],
   "source": [
    "# Variable Global\n",
    "my_global_variable=50\n",
    "\n",
    "def my_function_1():\n",
    "    print(\"my_function_1 - EL valor de my_global_variable es:\", my_global_variable)\n",
    "\n",
    "def my_function_2():\n",
    "    print (\"my_function_2 - El valor de my_global_variable es:\", my_global_variable)\n",
    "    "
   ]
  },
  {
   "cell_type": "code",
   "execution_count": 50,
   "id": "95309744",
   "metadata": {},
   "outputs": [
    {
     "name": "stdout",
     "output_type": "stream",
     "text": [
      "my_function_1 - EL valor de my_global_variable es: 50\n"
     ]
    }
   ],
   "source": [
    "my_function_1()"
   ]
  },
  {
   "cell_type": "code",
   "execution_count": 51,
   "id": "7d3b5aae",
   "metadata": {},
   "outputs": [
    {
     "name": "stdout",
     "output_type": "stream",
     "text": [
      "my_function_2 - El valor de my_global_variable es: 50\n"
     ]
    }
   ],
   "source": [
    "my_function_2()"
   ]
  },
  {
   "cell_type": "code",
   "execution_count": 56,
   "id": "f2ece3bf",
   "metadata": {},
   "outputs": [],
   "source": [
    "# Preferencia al valor local, y depues al global\n",
    "my_variable=50  #global\n",
    "\n",
    "def my_function_1():\n",
    "    my_variable=10 #local\n",
    "    print(\"my_function_1 - EL valor de my_variable es:\", my_variable)\n",
    "\n",
    "def my_function_2():\n",
    "    my_variable=20 #local\n",
    "    print (\"my_function_2 - El valor de my_variable es:\", my_variable)\n",
    "    \n",
    "def my_function_3():\n",
    "    \n",
    "    print (\"my_function_3 - El valor de my_variable es:\", my_variable)\n",
    "    "
   ]
  },
  {
   "cell_type": "code",
   "execution_count": 57,
   "id": "816a6f44",
   "metadata": {},
   "outputs": [
    {
     "name": "stdout",
     "output_type": "stream",
     "text": [
      "my_function_1 - EL valor de my_variable es: 10\n"
     ]
    }
   ],
   "source": [
    "my_function_1()"
   ]
  },
  {
   "cell_type": "code",
   "execution_count": 58,
   "id": "fba038bf",
   "metadata": {},
   "outputs": [
    {
     "name": "stdout",
     "output_type": "stream",
     "text": [
      "my_function_2 - El valor de my_variable es: 20\n"
     ]
    }
   ],
   "source": [
    "my_function_2()"
   ]
  },
  {
   "cell_type": "code",
   "execution_count": 59,
   "id": "644f3fde",
   "metadata": {},
   "outputs": [
    {
     "name": "stdout",
     "output_type": "stream",
     "text": [
      "my_function_3 - El valor de my_variable es: 50\n"
     ]
    }
   ],
   "source": [
    "my_function_3()"
   ]
  },
  {
   "cell_type": "markdown",
   "id": "064d8365",
   "metadata": {},
   "source": [
    "# Variables locales\n",
    "- Podemos usarlas dentro de una funcion\n",
    "- podemos tener una restriccion al acceder a una variable local desde otra funcion\n",
    "- no podemos usarlar durante todo el programa\n",
    "- El alcance y visibilidad se limita al interior de la funcion\n",
    "- Lo que dure la funcion sera lo que dure el alcance de nuestra variable"
   ]
  },
  {
   "cell_type": "code",
   "execution_count": null,
   "id": "e5f8daa5",
   "metadata": {},
   "outputs": [],
   "source": [
    "# Variable Global\n",
    "my_global_variable=50\n",
    "\n",
    "def my_function_1():\n",
    "    pass\n",
    "\n",
    "def my_function_2():\n",
    "    pass"
   ]
  },
  {
   "cell_type": "code",
   "execution_count": null,
   "id": "5d05f089",
   "metadata": {},
   "outputs": [],
   "source": [
    "# variables locales \n",
    "def my_function_1():\n",
    "    my_local_variable=5\n",
    "\n",
    "def my_function_2():\n",
    "    my_local_variable=35"
   ]
  },
  {
   "cell_type": "code",
   "execution_count": 60,
   "id": "be25bcb8",
   "metadata": {},
   "outputs": [],
   "source": [
    "def my_function_1():\n",
    "    my_variable=10 #local\n",
    "    print(\"my_function_1 - EL valor de my_variable es:\", my_variable)\n",
    "\n",
    "def my_function_2():\n",
    "    my_variable=20 #local\n",
    "    print (\"my_function_2 - El valor de my_variable es:\", my_variable)\n",
    "    \n",
    "def my_function_3():\n",
    "    \n",
    "    print (\"my_function_3 - El valor de my_variable es:\", my_variable)\n",
    "    "
   ]
  },
  {
   "cell_type": "code",
   "execution_count": 1,
   "id": "59147b1e",
   "metadata": {},
   "outputs": [
    {
     "ename": "NameError",
     "evalue": "name 'my_function_3' is not defined",
     "output_type": "error",
     "traceback": [
      "\u001b[1;31m---------------------------------------------------------------------------\u001b[0m",
      "\u001b[1;31mNameError\u001b[0m                                 Traceback (most recent call last)",
      "Cell \u001b[1;32mIn[1], line 1\u001b[0m\n\u001b[1;32m----> 1\u001b[0m my_function_3()\n",
      "\u001b[1;31mNameError\u001b[0m: name 'my_function_3' is not defined"
     ]
    }
   ],
   "source": [
    "my_function_3()"
   ]
  },
  {
   "cell_type": "markdown",
   "id": "5d9fd0ae",
   "metadata": {},
   "source": [
    "# Palabra reservada"
   ]
  },
  {
   "cell_type": "code",
   "execution_count": 2,
   "id": "c4218382",
   "metadata": {},
   "outputs": [],
   "source": [
    "def my_function_1():\n",
    "    my_variable=10 #local\n",
    "    print(\"my_function_1 - EL valor de my_variable es:\", my_variable)\n",
    "\n",
    "def my_function_2():\n",
    "    global my_variable #Global\n",
    "    my_variable=20 #local\n",
    "    print (\"my_function_2 - El valor de my_variable es:\", my_variable)\n",
    "    \n",
    "def my_function_3():\n",
    "    \n",
    "    print (\"my_function_3 - El valor de my_variable es:\", my_variable)"
   ]
  },
  {
   "cell_type": "code",
   "execution_count": 3,
   "id": "a846c81b",
   "metadata": {},
   "outputs": [
    {
     "name": "stdout",
     "output_type": "stream",
     "text": [
      "my_function_1 - EL valor de my_variable es: 10\n"
     ]
    }
   ],
   "source": [
    "my_function_1()"
   ]
  },
  {
   "cell_type": "code",
   "execution_count": 4,
   "id": "7da9876b",
   "metadata": {},
   "outputs": [
    {
     "name": "stdout",
     "output_type": "stream",
     "text": [
      "my_function_2 - El valor de my_variable es: 20\n"
     ]
    }
   ],
   "source": [
    "my_function_2()"
   ]
  },
  {
   "cell_type": "code",
   "execution_count": 5,
   "id": "1b40e7d8",
   "metadata": {},
   "outputs": [
    {
     "name": "stdout",
     "output_type": "stream",
     "text": [
      "my_function_3 - El valor de my_variable es: 20\n"
     ]
    }
   ],
   "source": [
    "my_function_3()"
   ]
  },
  {
   "cell_type": "code",
   "execution_count": 6,
   "id": "8c5a841c",
   "metadata": {},
   "outputs": [],
   "source": [
    "def my_function_1():\n",
    "    my_variable=10 #local\n",
    "    print(\"my_function_1 - EL valor de my_variable es:\", my_variable)\n",
    "\n",
    "def my_function_2():\n",
    "    global a,b,c,d,e\n",
    "    a=10\n",
    "    b=20\n",
    "    c=30\n",
    "    d=40\n",
    "    e=50 \n",
    "    my_variable=20 #local\n",
    "    print (\"my_function_2 - El valor de my_variable es:\", a)\n",
    "    print (\"my_function_2 - El valor de my_variable es:\", b)\n",
    "    print (\"my_function_2 - El valor de my_variable es:\", c)\n",
    "    print (\"my_function_2 - El valor de my_variable es:\", d)\n",
    "    print (\"my_function_2 - El valor de my_variable es:\", e)\n",
    "    \n",
    "def my_function_3():\n",
    "    \n",
    "    print (\"my_function_3 - El valor de my_variable es:\", a)\n",
    "    print (\"my_function_3 - El valor de my_variable es:\", b)\n",
    "    print (\"my_function_3 - El valor de my_variable es:\", c)\n",
    "    print (\"my_function_3 - El valor de my_variable es:\", d)\n",
    "    print (\"my_function_3 - El valor de my_variable es:\", e)"
   ]
  },
  {
   "cell_type": "code",
   "execution_count": 7,
   "id": "799144ef",
   "metadata": {},
   "outputs": [
    {
     "name": "stdout",
     "output_type": "stream",
     "text": [
      "my_function_1 - EL valor de my_variable es: 10\n"
     ]
    }
   ],
   "source": [
    "my_function_1()"
   ]
  },
  {
   "cell_type": "code",
   "execution_count": 8,
   "id": "01663093",
   "metadata": {},
   "outputs": [
    {
     "name": "stdout",
     "output_type": "stream",
     "text": [
      "my_function_2 - El valor de my_variable es: 10\n",
      "my_function_2 - El valor de my_variable es: 20\n",
      "my_function_2 - El valor de my_variable es: 30\n",
      "my_function_2 - El valor de my_variable es: 40\n",
      "my_function_2 - El valor de my_variable es: 50\n"
     ]
    }
   ],
   "source": [
    "my_function_2()"
   ]
  },
  {
   "cell_type": "code",
   "execution_count": 9,
   "id": "3f681c2c",
   "metadata": {},
   "outputs": [
    {
     "name": "stdout",
     "output_type": "stream",
     "text": [
      "my_function_3 - El valor de my_variable es: 10\n",
      "my_function_3 - El valor de my_variable es: 20\n",
      "my_function_3 - El valor de my_variable es: 30\n",
      "my_function_3 - El valor de my_variable es: 40\n",
      "my_function_3 - El valor de my_variable es: 50\n"
     ]
    }
   ],
   "source": [
    "my_function_3()"
   ]
  },
  {
   "cell_type": "markdown",
   "id": "ce87f6b8",
   "metadata": {},
   "source": [
    "# Tipo de Enteros\n",
    "- Forma decimal\n",
    "- Forma Binaria\n",
    "- Forma Octal\n",
    "- Forma Hexadecimal"
   ]
  },
  {
   "cell_type": "markdown",
   "id": "e4269c12",
   "metadata": {},
   "source": [
    "# Forma decimal"
   ]
  },
  {
   "cell_type": "code",
   "execution_count": 10,
   "id": "8aa29d4e",
   "metadata": {},
   "outputs": [
    {
     "name": "stdout",
     "output_type": "stream",
     "text": [
      "El valor de my_decimal_number es:  55\n"
     ]
    }
   ],
   "source": [
    "my_decimal_number = 55\n",
    "print (\"El valor de my_decimal_number es: \", my_decimal_number)"
   ]
  },
  {
   "cell_type": "code",
   "execution_count": 11,
   "id": "a128a1e3",
   "metadata": {},
   "outputs": [
    {
     "name": "stdout",
     "output_type": "stream",
     "text": [
      "El valor de my_decimal_number es:  512731625128341\n"
     ]
    }
   ],
   "source": [
    "my_decimal_number = 512731625128341\n",
    "print (\"El valor de my_decimal_number es: \", my_decimal_number)"
   ]
  },
  {
   "cell_type": "code",
   "execution_count": 12,
   "id": "a368cbaa",
   "metadata": {},
   "outputs": [
    {
     "ename": "SyntaxError",
     "evalue": "invalid decimal literal (461048880.py, line 1)",
     "output_type": "error",
     "traceback": [
      "\u001b[1;36m  Cell \u001b[1;32mIn[12], line 1\u001b[1;36m\u001b[0m\n\u001b[1;33m    my_decimal_number = 55d\u001b[0m\n\u001b[1;37m                         ^\u001b[0m\n\u001b[1;31mSyntaxError\u001b[0m\u001b[1;31m:\u001b[0m invalid decimal literal\n"
     ]
    }
   ],
   "source": [
    "my_decimal_number = 55d\n",
    "print (\"El valor de my_decimal_number es: \", my_decimal_number)"
   ]
  },
  {
   "cell_type": "markdown",
   "id": "0c129fb8",
   "metadata": {},
   "source": [
    "# Forma Binaria\n",
    "- Codigo organizado en bytes\n",
    "- Lenguaje Binario\n",
    "- Lenguaje de las MAquinas (1 y 0)\n",
    "\n",
    "## Valor Base: 2\n",
    "\n",
    "- Solamente acepta dos digitos ( 1 y 0)\n",
    " - Usamos el prefijo '0b' o '0B'"
   ]
  },
  {
   "cell_type": "code",
   "execution_count": 16,
   "id": "191c9157",
   "metadata": {},
   "outputs": [
    {
     "name": "stdout",
     "output_type": "stream",
     "text": [
      "El valor de my_decimal_number es:  11\n"
     ]
    }
   ],
   "source": [
    "my_decimal_number = 11\n",
    "print (\"El valor de my_decimal_number es: \", my_decimal_number)"
   ]
  },
  {
   "cell_type": "code",
   "execution_count": 14,
   "id": "5ff17469",
   "metadata": {},
   "outputs": [
    {
     "name": "stdout",
     "output_type": "stream",
     "text": [
      "El valor de my_binary_number es:  3\n"
     ]
    }
   ],
   "source": [
    "my_binary_number = 0b11 # 1*2**1 + 1*2**0\n",
    "print (\"El valor de my_binary_number es: \", my_binary_number)"
   ]
  },
  {
   "cell_type": "code",
   "execution_count": 17,
   "id": "ee4e2b86",
   "metadata": {},
   "outputs": [
    {
     "name": "stdout",
     "output_type": "stream",
     "text": [
      "El valor de my_decimal_number es:  111\n"
     ]
    }
   ],
   "source": [
    "my_decimal_number = 111\n",
    "print (\"El valor de my_decimal_number es: \", my_decimal_number)"
   ]
  },
  {
   "cell_type": "code",
   "execution_count": 19,
   "id": "c6799f6b",
   "metadata": {},
   "outputs": [
    {
     "name": "stdout",
     "output_type": "stream",
     "text": [
      "El valor de my_binary_number es:  7\n"
     ]
    }
   ],
   "source": [
    "my_binary_number = 0B111 # 1*2**2 + 1*2**1 + 1*2**0\n",
    "print (\"El valor de my_binary_number es: \", my_binary_number)"
   ]
  },
  {
   "cell_type": "markdown",
   "id": "c5060fa6",
   "metadata": {},
   "source": [
    "# Forma Octal\n",
    "\n",
    "Valor Base: 8\n",
    "- Solamente acepta digitos del 0 al 7\n",
    "- Usamos el prefijo '0o' o '0O'"
   ]
  },
  {
   "cell_type": "code",
   "execution_count": 20,
   "id": "74accf53",
   "metadata": {},
   "outputs": [
    {
     "name": "stdout",
     "output_type": "stream",
     "text": [
      "El valor de my_decimal_number es:  17\n"
     ]
    }
   ],
   "source": [
    "my_decimal_number = 17\n",
    "print (\"El valor de my_decimal_number es: \", my_decimal_number)"
   ]
  },
  {
   "cell_type": "code",
   "execution_count": 21,
   "id": "79faf7d9",
   "metadata": {},
   "outputs": [
    {
     "name": "stdout",
     "output_type": "stream",
     "text": [
      "El valor de my_octal_number es:  15\n"
     ]
    }
   ],
   "source": [
    "my_octal_number = 0o17 # 1*8**1 + 7*8**0\n",
    "print (\"El valor de my_octal_number es: \", my_octal_number)"
   ]
  },
  {
   "cell_type": "code",
   "execution_count": 22,
   "id": "a044736d",
   "metadata": {},
   "outputs": [
    {
     "name": "stdout",
     "output_type": "stream",
     "text": [
      "El valor de my_decimal_number es:  153\n"
     ]
    }
   ],
   "source": [
    "my_decimal_number = 153\n",
    "print (\"El valor de my_decimal_number es: \", my_decimal_number)"
   ]
  },
  {
   "cell_type": "code",
   "execution_count": 28,
   "id": "377499f1",
   "metadata": {},
   "outputs": [
    {
     "name": "stdout",
     "output_type": "stream",
     "text": [
      "El valor de my_decimal_number es:  107\n"
     ]
    }
   ],
   "source": [
    "my_octal_number = 0o153 # 1*8**2 + 5*8**1 + 3*8**0\n",
    "print (\"El valor de my_octal_number es: \", my_octal_number)"
   ]
  },
  {
   "cell_type": "markdown",
   "id": "1c6dde23",
   "metadata": {},
   "source": [
    "# Forma hexadecimal\n",
    "### Valor Base: 16\n",
    "- Acepta digitos del 0 al 9\n",
    "\n",
    "- Acepta letras de la 'a/A' a la 'f/F'\n",
    "\n",
    "- Usamos el prefijo '0x' o '0X'\n",
    "\n",
    "- 0\n",
    "- 1\n",
    "- 2\n",
    "- 3\n",
    "- 4\n",
    "- 5\n",
    "- 6\n",
    "- 7\n",
    "- 8\n",
    "- 9\n",
    "- A = 10\n",
    "- B = 11\n",
    "- C = 12\n",
    "- D = 13\n",
    "- E = 14\n",
    "- F = 15"
   ]
  },
  {
   "cell_type": "code",
   "execution_count": 26,
   "id": "3dda031e",
   "metadata": {},
   "outputs": [
    {
     "name": "stdout",
     "output_type": "stream",
     "text": [
      "El valor de my_decimal_number es:  17\n"
     ]
    }
   ],
   "source": [
    "my_decimal_number = 17\n",
    "print (\"El valor de my_decimal_number es: \", my_decimal_number)"
   ]
  },
  {
   "cell_type": "code",
   "execution_count": 29,
   "id": "3b93eba1",
   "metadata": {},
   "outputs": [
    {
     "name": "stdout",
     "output_type": "stream",
     "text": [
      "El valor de my_octal_number es:  23\n"
     ]
    }
   ],
   "source": [
    "my_octal_number = 0x17 # 1*16**1 + 7*16**0\n",
    "print (\"El valor de my_octal_number es: \", my_octal_number)"
   ]
  },
  {
   "cell_type": "code",
   "execution_count": 31,
   "id": "5241b0d1",
   "metadata": {},
   "outputs": [
    {
     "name": "stdout",
     "output_type": "stream",
     "text": [
      "El valor de my_decimal_number es:  28\n"
     ]
    }
   ],
   "source": [
    "my_hex_number = 0x1c # 1*16**1 + 12*16**0\n",
    "print (\"El valor de my_decimal_number es: \", my_hex_number)"
   ]
  },
  {
   "cell_type": "code",
   "execution_count": null,
   "id": "b7d93933",
   "metadata": {},
   "outputs": [],
   "source": []
  }
 ],
 "metadata": {
  "kernelspec": {
   "display_name": "Python 3 (ipykernel)",
   "language": "python",
   "name": "python3"
  },
  "language_info": {
   "codemirror_mode": {
    "name": "ipython",
    "version": 3
   },
   "file_extension": ".py",
   "mimetype": "text/x-python",
   "name": "python",
   "nbconvert_exporter": "python",
   "pygments_lexer": "ipython3",
   "version": "3.11.7"
  }
 },
 "nbformat": 4,
 "nbformat_minor": 5
}
