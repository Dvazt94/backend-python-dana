{
 "cells": [
  {
   "cell_type": "markdown",
   "id": "a4b94775",
   "metadata": {},
   "source": [
    "## Diferentes formas de crear Tuplas"
   ]
  },
  {
   "cell_type": "code",
   "execution_count": 1,
   "id": "77b48133",
   "metadata": {},
   "outputs": [
    {
     "name": "stdout",
     "output_type": "stream",
     "text": [
      "<class 'tuple'>\n",
      "('Carlos', 'Test', 3000, 15.79)\n"
     ]
    }
   ],
   "source": [
    "my_tuple = (\"Carlos\", \"Test\", 3000, 15.79)\n",
    "print(type(my_tuple))\n",
    "print(my_tuple)"
   ]
  },
  {
   "cell_type": "code",
   "execution_count": 2,
   "id": "e9e23b45",
   "metadata": {},
   "outputs": [
    {
     "name": "stdout",
     "output_type": "stream",
     "text": [
      "<class 'tuple'>\n",
      "('Carlos', 'Test', 3000, 15.79)\n"
     ]
    }
   ],
   "source": [
    "my_tuple = \"Carlos\", \"Test\", 3000, 15.79\n",
    "print(type(my_tuple))\n",
    "print(my_tuple)"
   ]
  },
  {
   "cell_type": "code",
   "execution_count": 3,
   "id": "56323c56",
   "metadata": {},
   "outputs": [
    {
     "name": "stdout",
     "output_type": "stream",
     "text": [
      "<class 'tuple'>\n",
      "(100, 200, 300, 400, 500)\n"
     ]
    }
   ],
   "source": [
    "my_list = [100,200,300,400,500]\n",
    "my_tuple = tuple(my_list)\n",
    "print(type(my_tuple))\n",
    "print(my_tuple)"
   ]
  },
  {
   "cell_type": "markdown",
   "id": "2701d079",
   "metadata": {},
   "source": [
    "## Metodo sort en tuplas"
   ]
  },
  {
   "cell_type": "code",
   "execution_count": 3,
   "id": "28ecdaff",
   "metadata": {},
   "outputs": [
    {
     "name": "stdout",
     "output_type": "stream",
     "text": [
      "<class 'tuple'>\n",
      "(5, 4, 2, 7, 9, 0, 1)\n",
      "<class 'list'>\n",
      "[0, 1, 2, 4, 5, 7, 9]\n",
      "<class 'tuple'>\n",
      "(0, 1, 2, 4, 5, 7, 9)\n"
     ]
    }
   ],
   "source": [
    "my_tuple = (5,4,2,7,9,0,1)\n",
    "my_sorted_tuple = sorted(my_tuple)\n",
    "my_sorted_tuple_2 = tuple(sorted(my_tuple))\n",
    "\n",
    "print(type(my_tuple))\n",
    "print (my_tuple)\n",
    "\n",
    "print(type(my_sorted_tuple))\n",
    "print(my_sorted_tuple)\n",
    "\n",
    "print(type(my_sorted_tuple_2))\n",
    "print(my_sorted_tuple_2)"
   ]
  },
  {
   "cell_type": "markdown",
   "id": "26ca4034",
   "metadata": {},
   "source": [
    "## Metodo all en Tuplas"
   ]
  },
  {
   "cell_type": "code",
   "execution_count": 4,
   "id": "22d246c7",
   "metadata": {},
   "outputs": [
    {
     "name": "stdout",
     "output_type": "stream",
     "text": [
      "True\n"
     ]
    }
   ],
   "source": [
    "my_tuple = (5,4,2,7,9,2,1)\n",
    "print(all(my_tuple))"
   ]
  },
  {
   "cell_type": "code",
   "execution_count": 5,
   "id": "825b4cac",
   "metadata": {},
   "outputs": [
    {
     "name": "stdout",
     "output_type": "stream",
     "text": [
      "False\n"
     ]
    }
   ],
   "source": [
    "my_tuple = (5,4,2,7,9,0,1)\n",
    "print(all(my_tuple))"
   ]
  },
  {
   "cell_type": "code",
   "execution_count": 6,
   "id": "6da8908d",
   "metadata": {},
   "outputs": [],
   "source": [
    "## Metodo all Valida que todos los elementos sean mayor que cero, sean true y ue no haya elementos faltantes"
   ]
  },
  {
   "cell_type": "code",
   "execution_count": 7,
   "id": "bc000add",
   "metadata": {},
   "outputs": [
    {
     "name": "stdout",
     "output_type": "stream",
     "text": [
      "False\n"
     ]
    }
   ],
   "source": [
    "my_tuple = (5,4,2,7,9,\"\",1) \n",
    "print(all(my_tuple))"
   ]
  },
  {
   "cell_type": "code",
   "execution_count": 8,
   "id": "b59a0a63",
   "metadata": {},
   "outputs": [
    {
     "name": "stdout",
     "output_type": "stream",
     "text": [
      "False\n"
     ]
    }
   ],
   "source": [
    "my_tuple = (5,4,2,7,9,None,1)\n",
    "print(all(my_tuple))"
   ]
  },
  {
   "cell_type": "code",
   "execution_count": 9,
   "id": "77d94976",
   "metadata": {},
   "outputs": [
    {
     "name": "stdout",
     "output_type": "stream",
     "text": [
      "False\n"
     ]
    }
   ],
   "source": [
    "my_tuple = (5,4,2,7,9,False,1)\n",
    "print(all(my_tuple))"
   ]
  },
  {
   "cell_type": "code",
   "execution_count": 10,
   "id": "2202083c",
   "metadata": {},
   "outputs": [
    {
     "name": "stdout",
     "output_type": "stream",
     "text": [
      "True\n"
     ]
    }
   ],
   "source": [
    "my_tuple = (5,4,2,7,9,\"test\",1)\n",
    "print(all(my_tuple))"
   ]
  },
  {
   "cell_type": "code",
   "execution_count": 11,
   "id": "8b9b9a75",
   "metadata": {},
   "outputs": [
    {
     "name": "stdout",
     "output_type": "stream",
     "text": [
      "True\n"
     ]
    }
   ],
   "source": [
    "my_tuple = (5,4,2,7,9,3.5,1)\n",
    "print(all(my_tuple))"
   ]
  },
  {
   "cell_type": "markdown",
   "id": "bedcf5c0",
   "metadata": {},
   "source": [
    "## Metodo any en tuplas"
   ]
  },
  {
   "cell_type": "code",
   "execution_count": 13,
   "id": "939ca439",
   "metadata": {},
   "outputs": [
    {
     "name": "stdout",
     "output_type": "stream",
     "text": [
      "True\n"
     ]
    }
   ],
   "source": [
    "my_tuple = (5,4,2,7,9,2,1)\n",
    "print(any(my_tuple))"
   ]
  },
  {
   "cell_type": "code",
   "execution_count": 15,
   "id": "b2cfec67",
   "metadata": {},
   "outputs": [
    {
     "name": "stdout",
     "output_type": "stream",
     "text": [
      "True\n"
     ]
    }
   ],
   "source": [
    "my_tuple = (5,4,2,7,9,0,1)\n",
    "print(any(my_tuple))"
   ]
  },
  {
   "cell_type": "code",
   "execution_count": 17,
   "id": "352a531f",
   "metadata": {},
   "outputs": [
    {
     "name": "stdout",
     "output_type": "stream",
     "text": [
      "True\n"
     ]
    }
   ],
   "source": [
    "my_tuple = (0,0,0,0,0,0,1)\n",
    "print(any(my_tuple))"
   ]
  },
  {
   "cell_type": "code",
   "execution_count": 18,
   "id": "620dcc83",
   "metadata": {},
   "outputs": [
    {
     "name": "stdout",
     "output_type": "stream",
     "text": [
      "True\n"
     ]
    }
   ],
   "source": [
    "my_tuple = (\"\",\"t\")\n",
    "print(any(my_tuple))"
   ]
  },
  {
   "cell_type": "code",
   "execution_count": 19,
   "id": "9b94e049",
   "metadata": {},
   "outputs": [
    {
     "name": "stdout",
     "output_type": "stream",
     "text": [
      "False\n"
     ]
    }
   ],
   "source": [
    "my_tuple = (None,None)\n",
    "print(any(my_tuple))"
   ]
  },
  {
   "cell_type": "code",
   "execution_count": 20,
   "id": "ff149bb2",
   "metadata": {},
   "outputs": [
    {
     "name": "stdout",
     "output_type": "stream",
     "text": [
      "True\n"
     ]
    }
   ],
   "source": [
    "my_tuple = (None,None, 1)\n",
    "print(any(my_tuple))"
   ]
  },
  {
   "cell_type": "code",
   "execution_count": 21,
   "id": "8f8afb04",
   "metadata": {},
   "outputs": [
    {
     "name": "stdout",
     "output_type": "stream",
     "text": [
      "False\n"
     ]
    }
   ],
   "source": [
    "my_tuple = (False, False)\n",
    "print(any(my_tuple))"
   ]
  },
  {
   "cell_type": "code",
   "execution_count": 22,
   "id": "0bb3ddf2",
   "metadata": {},
   "outputs": [
    {
     "name": "stdout",
     "output_type": "stream",
     "text": [
      "True\n"
     ]
    }
   ],
   "source": [
    "my_tuple = (None,None, True)\n",
    "print(any(my_tuple))"
   ]
  },
  {
   "cell_type": "code",
   "execution_count": 23,
   "id": "e1347953",
   "metadata": {},
   "outputs": [],
   "source": [
    "## validar que minimo un elemento sea diferente de cero"
   ]
  },
  {
   "cell_type": "markdown",
   "id": "2fd394fa",
   "metadata": {},
   "source": [
    "## Metodo len en Tuplas"
   ]
  },
  {
   "cell_type": "code",
   "execution_count": 26,
   "id": "a1a271b9",
   "metadata": {},
   "outputs": [
    {
     "name": "stdout",
     "output_type": "stream",
     "text": [
      "<class 'tuple'>\n",
      "(5, 4, 2, 7, 9, 2, 1)\n",
      "7\n"
     ]
    }
   ],
   "source": [
    "my_tuple = (5,4,2,7,9,2,1)\n",
    "print(type(my_tuple))\n",
    "print(my_tuple)\n",
    "print(len(my_tuple))"
   ]
  },
  {
   "cell_type": "markdown",
   "id": "8506d729",
   "metadata": {},
   "source": [
    "## Indexacion en tuplas"
   ]
  },
  {
   "cell_type": "code",
   "execution_count": 27,
   "id": "1b06bbe2",
   "metadata": {},
   "outputs": [
    {
     "name": "stdout",
     "output_type": "stream",
     "text": [
      "<class 'tuple'>\n",
      "(5, 4, 2, 7, 9, 2, 1)\n",
      "5\n",
      "1\n",
      "7\n",
      "7\n"
     ]
    }
   ],
   "source": [
    "my_tuple = (5,4,2,7,9,2,1)\n",
    "print(type(my_tuple))\n",
    "print(my_tuple)\n",
    "print(my_tuple[0])\n",
    "print(my_tuple[-1])\n",
    "print(my_tuple[3])\n",
    "print(my_tuple[-4])"
   ]
  },
  {
   "cell_type": "markdown",
   "id": "33fc0dc5",
   "metadata": {},
   "source": [
    "## Conversion de Tuplas"
   ]
  },
  {
   "cell_type": "markdown",
   "id": "02393975",
   "metadata": {},
   "source": [
    "## Cdena a Tupla"
   ]
  },
  {
   "cell_type": "code",
   "execution_count": 28,
   "id": "654342ac",
   "metadata": {},
   "outputs": [
    {
     "name": "stdout",
     "output_type": "stream",
     "text": [
      "Backend Python\n",
      "('B', 'a', 'c', 'k', 'e', 'n', 'd', ' ', 'P', 'y', 't', 'h', 'o', 'n')\n"
     ]
    }
   ],
   "source": [
    "my_string = \"Backend Python\"\n",
    "my_tuple= tuple(my_string)\n",
    "\n",
    "print(my_string)\n",
    "print(my_tuple)"
   ]
  },
  {
   "cell_type": "code",
   "execution_count": 30,
   "id": "f594b5c5",
   "metadata": {},
   "outputs": [
    {
     "name": "stdout",
     "output_type": "stream",
     "text": [
      "['python', 'javascript', 'go', 'scala']\n",
      "('python', 'javascript', 'go', 'scala')\n"
     ]
    }
   ],
   "source": [
    "my_list = [\"python\",\"javascript\", \"go\",\"scala\"]\n",
    "my_tuple = tuple(my_list)\n",
    "\n",
    "print(my_list)\n",
    "print(my_tuple)"
   ]
  },
  {
   "cell_type": "markdown",
   "id": "1743c51f",
   "metadata": {},
   "source": [
    "## Tupla a Cadena"
   ]
  },
  {
   "cell_type": "code",
   "execution_count": 31,
   "id": "36f8ebae",
   "metadata": {},
   "outputs": [
    {
     "name": "stdout",
     "output_type": "stream",
     "text": [
      "('B', 'a', 'c', 'k', 'e', 'n', 'd', ' ', 'P', 'y', 't', 'h', 'o', 'n')\n",
      "Backend Python\n"
     ]
    }
   ],
   "source": [
    "my_tuple = ('B', 'a', 'c', 'k', 'e', 'n', 'd', ' ', 'P', 'y', 't', 'h', 'o', 'n')\n",
    "my_string = \"\".join(my_tuple)\n",
    "\n",
    "print(my_tuple)\n",
    "print(my_string)"
   ]
  },
  {
   "cell_type": "markdown",
   "id": "8be03810",
   "metadata": {},
   "source": [
    "## Tupla a Lista"
   ]
  },
  {
   "cell_type": "code",
   "execution_count": 32,
   "id": "f54d04a3",
   "metadata": {},
   "outputs": [
    {
     "name": "stdout",
     "output_type": "stream",
     "text": [
      "['python', 'javascript', 'go', 'scala']\n",
      "('python', 'javascript', 'go', 'scala')\n"
     ]
    }
   ],
   "source": [
    "my_tuple = (\"python\",\"javascript\", \"go\",\"scala\")\n",
    "my_list = list(my_list)\n",
    "\n",
    "print(my_list)\n",
    "print(my_tuple)"
   ]
  },
  {
   "cell_type": "markdown",
   "id": "70ee3f89",
   "metadata": {},
   "source": [
    "## Ventajas de la tupla sobre la lista"
   ]
  },
  {
   "cell_type": "markdown",
   "id": "6e6bc6e7",
   "metadata": {},
   "source": [
    "- Generalmente usamos tuplas para elementos heterogeneos (de diferente tipo y dato), y usamos listas para elementos homogeneos (del mismo tipo de dato)\n",
    "- Las tuplas son inmutables, iterar a traves de una tupla es mas raido que con una lista. por lo tanto hay una pequena mejora de rendimiento\n",
    "- Las tuplas que contienen elementos inmutables pueden ser usadas como llaves para un diccionario. Con listas no es posible.\n",
    "- Si tienes data que no cambia iplementarla como tupla te garantiza que se mantendra protegida a modificaciones"
   ]
  },
  {
   "cell_type": "code",
   "execution_count": 33,
   "id": "4d90ceeb",
   "metadata": {},
   "outputs": [
    {
     "ename": "NameError",
     "evalue": "name 'my_tupla' is not defined",
     "output_type": "error",
     "traceback": [
      "\u001b[1;31m---------------------------------------------------------------------------\u001b[0m",
      "\u001b[1;31mNameError\u001b[0m                                 Traceback (most recent call last)",
      "Cell \u001b[1;32mIn[33], line 1\u001b[0m\n\u001b[1;32m----> 1\u001b[0m my_tupla[\u001b[38;5;241m0\u001b[39m] \u001b[38;5;241m=\u001b[39m \u001b[38;5;124m\"\u001b[39m\u001b[38;5;124mvalor intruso\u001b[39m\u001b[38;5;124m\"\u001b[39m\n",
      "\u001b[1;31mNameError\u001b[0m: name 'my_tupla' is not defined"
     ]
    }
   ],
   "source": [
    "my_tupla[0] = \"valor intruso\""
   ]
  },
  {
   "cell_type": "code",
   "execution_count": 34,
   "id": "5a5ea93c",
   "metadata": {},
   "outputs": [],
   "source": [
    "my_list[0] = \"valor intruso\""
   ]
  },
  {
   "cell_type": "code",
   "execution_count": 35,
   "id": "cb51be01",
   "metadata": {},
   "outputs": [
    {
     "name": "stdout",
     "output_type": "stream",
     "text": [
      "('python', 'javascript', 'go', 'scala')\n",
      "['valor intruso', 'javascript', 'go', 'scala']\n"
     ]
    }
   ],
   "source": [
    "print(my_tuple)\n",
    "print(my_list)"
   ]
  },
  {
   "cell_type": "code",
   "execution_count": null,
   "id": "39e0330b",
   "metadata": {},
   "outputs": [],
   "source": []
  }
 ],
 "metadata": {
  "kernelspec": {
   "display_name": "Python 3 (ipykernel)",
   "language": "python",
   "name": "python3"
  },
  "language_info": {
   "codemirror_mode": {
    "name": "ipython",
    "version": 3
   },
   "file_extension": ".py",
   "mimetype": "text/x-python",
   "name": "python",
   "nbconvert_exporter": "python",
   "pygments_lexer": "ipython3",
   "version": "3.11.7"
  }
 },
 "nbformat": 4,
 "nbformat_minor": 5
}
